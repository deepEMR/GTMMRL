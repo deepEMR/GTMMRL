{
 "cells": [
  {
   "cell_type": "markdown",
   "id": "26c24195",
   "metadata": {},
   "source": [
    "# step0: preprocessing task label (readminssion and expired)"
   ]
  },
  {
   "cell_type": "code",
   "execution_count": 1,
   "id": "8dd42102",
   "metadata": {},
   "outputs": [],
   "source": [
    "import _pickle as cPickle\n",
    "import csv\n",
    "import os\n",
    "import sys\n",
    "import datetime\n",
    "import random\n",
    "import pandas as pd\n",
    "from tqdm import tqdm\n",
    "import sklearn.model_selection as ms\n",
    "encounter_dict = {}"
   ]
  },
  {
   "cell_type": "code",
   "execution_count": 2,
   "id": "575e4e4a",
   "metadata": {},
   "outputs": [],
   "source": [
    "class EncounterInfo(object):\n",
    "\n",
    "    def __init__(self, patient_id, encounter_id, encounter_timestamp, expired,\n",
    "                 readmission, los_3day, los_7day, Death30, Death180, Death365, admission_type=99, marital_status=99):\n",
    "        self.patient_id = patient_id\n",
    "        self.encounter_id = encounter_id\n",
    "        self.encounter_timestamp = encounter_timestamp\n",
    "        self.expired = expired\n",
    "        self.readmission = readmission\n",
    "        self.admission_type = admission_type\n",
    "        self.marital_status = marital_status\n",
    "        self.los_3day = los_3day\n",
    "        self.los_7day = los_7day\n",
    "        self.gender = ''\n",
    "        self.dx_ids = []\n",
    "        self.dx_ids_lvl1 = []\n",
    "        self.dx_names = []\n",
    "        self.dx_labels = []\n",
    "        self.rx_ids = []\n",
    "        self.rx_names = []\n",
    "        self.lab_ids = []\n",
    "        self.lab_names = []\n",
    "        self.microbiology_ids = []\n",
    "        self.microbiology_names = []\n",
    "        self.physicals = []\n",
    "        self.procedures_ids = []\n",
    "        self.procedures_names = []\n",
    "        self.Death30 = Death30\n",
    "        self.Death180 = Death180\n",
    "        self.Death365 = Death365\n",
    "\n",
    "\n",
    "def minNums(startTime, endTime):\n",
    "    '''计算两个时间点之间的分钟数'''\n",
    "    # 处理格式,加上秒位\n",
    "    startTime1 = startTime  # + ':00'\n",
    "    endTime1 = endTime  # + ':00'\n",
    "    # 计算分钟数\n",
    "    startTime2 = datetime.datetime.strptime(startTime1, \"%Y-%m-%d %H:%M:%S\")\n",
    "    endTime2 = datetime.datetime.strptime(endTime1, \"%Y-%m-%d %H:%M:%S\")\n",
    "    seconds = (endTime2 - startTime2).seconds\n",
    "    # 来获取时间差中的秒数。注意，seconds获得的秒只是时间差中的小时、分钟和秒部分的和，并没有包含时间差的天数（既是两个时间点不是同一天，失效）\n",
    "    total_seconds = (endTime2 - startTime2).total_seconds()\n",
    "    # 来获取准确的时间差，并将时间差转换为秒\n",
    "    # print(total_seconds)\n",
    "    mins = total_seconds / 60\n",
    "    return int(mins)"
   ]
  },
  {
   "cell_type": "code",
   "execution_count": 3,
   "id": "c8a465f5",
   "metadata": {},
   "outputs": [],
   "source": [
    "# random_seed 用于随机生成\n",
    "def process_admission(admission_file, icustays_file, patients_file, encounter_dict, max_patient_num=500, hour_threshold=24):\n",
    "\n",
    "    count = 0\n",
    "    patient_dict = {}\n",
    "    admission_list = []\n",
    "\n",
    "    patient_base_dict = {}\n",
    "    inff = open(patients_file, 'r')\n",
    "    for line in csv.DictReader(inff):\n",
    "        patient_id = line['SUBJECT_ID']\n",
    "        gender = line['GENDER']\n",
    "        birthday = line['DOB']\n",
    "        if patient_id not in patient_base_dict:\n",
    "            patient_base_dict[patient_id] = []\n",
    "        patient_base_dict[patient_id].append((gender,birthday))\n",
    "    inff.close()\n",
    "\n",
    "\n",
    "    # --------------- icustays_file --------------------\n",
    "#     patient_icu_dict = {}\n",
    "#     inff = open(icustays_file, 'r')\n",
    "#     for line in csv.DictReader(inff):\n",
    "#         FIRST_CAREUNIT = line['FIRST_CAREUNIT']\n",
    "#         LAST_CAREUNIT = line['LAST_CAREUNIT']\n",
    "#         icu_intime = line['INTIME']\n",
    "#         icu_outtime = line['OUTTIME']\n",
    "#         patient_id = line['SUBJECT_ID']\n",
    "#         encounter_id = line['HADM_ID']\n",
    "#         birthday = patient_base_dict[patient_id][0][1]\n",
    "#         age = minNums(birthday, icu_intime)/(24. * 60 * 365)\n",
    "\n",
    "#         ## ICU stay以及年龄大于18\n",
    "#         if FIRST_CAREUNIT == LAST_CAREUNIT and LAST_CAREUNIT=='MICU' and age > 18:\n",
    "#             if patient_id not in patient_icu_dict:\n",
    "#                 patient_icu_dict[patient_id] = []\n",
    "#             patient_icu_dict[patient_id].append(encounter_id)\n",
    "#     inff.close()\n",
    "\n",
    "\n",
    "    # --------------- admission_file --------------------\n",
    "    inff = open(admission_file, 'r')\n",
    "    for line in csv.DictReader(inff):\n",
    "        if count % 1000 == 0:\n",
    "            sys.stdout.write('%d\\r' % count)\n",
    "            sys.stdout.flush()\n",
    "\n",
    "        # if count == max_admission_num:\n",
    "        #     break\n",
    "\n",
    "        patient_id = line['SUBJECT_ID']\n",
    "        encounter_id = line['HADM_ID']\n",
    "        admittime = line['ADMITTIME']\n",
    "        dischtime = line['DISCHTIME']\n",
    "\n",
    "        # encounter_timestamp = -int(line['hospitaladmitoffset'])\n",
    "        encounter_timestamp = minNums(admittime, dischtime)\n",
    "        # encounter_timestamp：number of minutes from unit admit time that the patient was admitted to the hospital\n",
    "\n",
    "#         # 只统计ICU的记录\n",
    "#         if patient_id in patient_icu_dict.keys():\n",
    "#             if encounter_id in patient_icu_dict[patient_id]:\n",
    "        if patient_id not in patient_dict:\n",
    "            patient_dict[patient_id] = []\n",
    "        patient_dict[patient_id].append((admittime, encounter_timestamp, encounter_id,dischtime))\n",
    "\n",
    "        count += 1\n",
    "    inff.close()\n",
    "\n",
    "    # 随机的数量不能大于总的患者数量\n",
    "    if max_patient_num > len(patient_dict):\n",
    "        max_patient_num = len(patient_dict)\n",
    "    # 随机选取 患者\n",
    "    patient_random_keys = random.sample(patient_dict.keys(), max_patient_num)\n",
    "    patient_random_del_keys = []\n",
    "\n",
    "    for patient_id in patient_dict.keys():\n",
    "        if patient_id not in patient_random_keys:\n",
    "            patient_random_del_keys.append(patient_id)\n",
    "    # 删除不在随机范围内的患者记录\n",
    "    for patient_random_del_key in patient_random_del_keys:\n",
    "        del patient_dict[patient_random_del_key]\n",
    "    # admission_list，只存储随机到的患者的就诊记录\n",
    "    for patient_id, encounter_ids in patient_dict.items():\n",
    "        for encounter_id in encounter_ids:\n",
    "            if encounter_id[2] not in admission_list:\n",
    "                admission_list.append(encounter_id[2])\n",
    "\n",
    "    # sort\n",
    "    patient_dict_sorted = {}\n",
    "    for patient_id, time_enc_tuples in patient_dict.items():\n",
    "        # print(time_enc_tuples)\n",
    "        patient_dict_sorted[patient_id] = sorted(time_enc_tuples, reverse=False)\n",
    "\n",
    "    # enc_readmission_dict 判断该患者是否是重新入院的\n",
    "    enc_readmission_dict = {}\n",
    "    for patient_id, time_enc_tuples in patient_dict_sorted.items():\n",
    "        for time_enc_tuple in time_enc_tuples[:-1]:\n",
    "            enc_id = time_enc_tuple[2]\n",
    "            enc_readmission_dict[enc_id] = 1\n",
    "        last_enc_id = time_enc_tuples[-1][2]\n",
    "        enc_readmission_dict[last_enc_id] = 0\n",
    "\n",
    "\n",
    "    # enc_readmission_dict 判断该患者是否是重新入院,在出院30天内\n",
    "#     enc_readmission_dict = {}\n",
    "#     for patient_id, time_enc_tuples in patient_dict_sorted.items(): \n",
    "#         flag=0\n",
    "#         handle_flag = 0\n",
    "#         for time_enc_tuple in time_enc_tuples:\n",
    "#             enc_readmission_dict[time_enc_tuple[2]] = 0 # 先默认本次入院记录的next_readmission_flag 为0，后面再更新\n",
    "#             if handle_flag == 1:  #第一次循环不处理下次入院时间，从第二次入院记录开始，更新上次入院的next_readmission day\n",
    "#                 readminssionday = 999\n",
    "#                 encounter_timestamp = minNums(last_time_enc_tuple[3], time_enc_tuple[0]) # 上次出院到本次入院的时间\n",
    "#                 readminssionday =  encounter_timestamp/(24. * 60)\n",
    "#                 if readminssionday<=30:\n",
    "#                     enc_readmission_dict[last_time_enc_tuple[2]] = 1\n",
    "#                 else:\n",
    "#                     enc_readmission_dict[last_time_enc_tuple[2]] = 0\n",
    "# #                 print(patient_id,last_time_enc_tuple[2],'>>>',last_time_enc_tuple[0],last_time_enc_tuple[3],'>>>',readminssionday)\n",
    "#             handle_flag = 1\n",
    "#             last_time_enc_tuple = time_enc_tuple\n",
    "            \n",
    "\n",
    "    inff = open(admission_file, 'r')\n",
    "    count = 0\n",
    "    for line in tqdm(csv.DictReader(inff)):\n",
    "        if line['HADM_ID'] in admission_list:\n",
    "            patient_id = line['SUBJECT_ID']\n",
    "            encounter_id = line['HADM_ID']\n",
    "\n",
    "            admittime = line['ADMITTIME']\n",
    "            dischtime = line['DISCHTIME']\n",
    "            deathtime = line['DEATHTIME']\n",
    "\n",
    "            encounter_timestamp = minNums(admittime, dischtime)\n",
    "            if deathtime is not None and deathtime!='':  \n",
    "                death_timestamp = minNums(admittime, deathtime)\n",
    "            else:\n",
    "                death_timestamp=0\n",
    "\n",
    "            # hospital_expire_flag：This is a binary flag which indicates whether the patient died within the given hospitalization.\n",
    "            # ---------------------： 1 indicates death in the hospital, and 0 indicates survival to hospital discharge.\n",
    "            hospital_expire_flag = line['HOSPITAL_EXPIRE_FLAG']\n",
    "            duration_minute = encounter_timestamp\n",
    "            losday =  duration_minute/(24. * 60)\n",
    "            deathday = death_timestamp/(24. * 60)\n",
    "            \n",
    "            expired = 1 if hospital_expire_flag == '1' else 0\n",
    "            readmission = 1 if enc_readmission_dict[encounter_id] ==1 else 0\n",
    "            los_3day = 1 if losday > 3 else 0\n",
    "            los_7day = 1 if losday > 7 else 0\n",
    "            \n",
    "            Death30 = 1 if 30>= deathday >0 else 0\n",
    "            Death180 = 1 if 180>= deathday >0 else 0\n",
    "            Death365 = 1 if 365>= deathday >0 else 0\n",
    "            \n",
    "        \n",
    "            if duration_minute < 60. * hour_threshold:\n",
    "                continue\n",
    "\n",
    "            ei = EncounterInfo(patient_id, encounter_id, encounter_timestamp, expired,\n",
    "                               readmission, los_3day, los_7day, Death30, Death180, Death365)\n",
    "            if encounter_id in encounter_dict:\n",
    "                print('Duplicate encounter ID!!')\n",
    "                sys.exit(0)\n",
    "            encounter_dict[encounter_id] = ei\n",
    "            count = count + 1\n",
    "    inff.close()\n",
    "\n",
    "    print('Accepted Patients: {}'.format(max_patient_num))\n",
    "    print('Accepted admissions: {}'.format(count))\n",
    "    print('')\n",
    "    return encounter_dict, admission_list"
   ]
  },
  {
   "cell_type": "code",
   "execution_count": 4,
   "id": "b0e24536",
   "metadata": {},
   "outputs": [],
   "source": [
    "def process_patients(patients_file, encounter_dict):\n",
    "    count = 0\n",
    "    enc_dict = encounter_dict\n",
    "    inff = open(patients_file, 'r')\n",
    "    for line in csv.DictReader(inff):\n",
    "        patient_id = line['SUBJECT_ID']\n",
    "        gender = line['GENDER']\n",
    "        for _, enc in enc_dict.items():\n",
    "            if enc.patient_id == patient_id:\n",
    "                enc.gender = gender\n",
    "            count += 1\n",
    "    inff.close()\n",
    "\n",
    "    print('Accepted admissions: %d' % count)\n",
    "    print('')\n",
    "    return encounter_dict\n"
   ]
  },
  {
   "cell_type": "code",
   "execution_count": 5,
   "id": "9fe5cd46",
   "metadata": {},
   "outputs": [
    {
     "name": "stdout",
     "output_type": "stream",
     "text": [
      "max_patient_num:100000\n",
      "Processing ADMISSIONS.csv\n",
      "58000\r"
     ]
    },
    {
     "name": "stderr",
     "output_type": "stream",
     "text": [
      "58976it [00:36, 1605.72it/s]\n"
     ]
    },
    {
     "name": "stdout",
     "output_type": "stream",
     "text": [
      "Accepted Patients: 46520\n",
      "Accepted admissions: 56684\n",
      "\n"
     ]
    }
   ],
   "source": [
    "\n",
    "# input_path = argv[1]\n",
    "# output_path = argv[2]\n",
    "# input_path = '/home/caoyu/jupyterNotebook/data_test'\n",
    "# output_path = '/home/caoyu/project/healthRecords/data/mimiciv'\n",
    "\n",
    "input_path = '/home/caoyu/project/GraphCLHealth/data/mimiciii'\n",
    "output_path = '/home/caoyu/project/GraphCLHealth/processed_data/mimiciii'\n",
    "minimum_cnt = 5\n",
    "max_patient_num = 100000\n",
    "print('max_patient_num:' + str(max_patient_num))\n",
    "\n",
    "\n",
    "flag_test_flag = 1 # whether to use the test files for debugging\n",
    "icd_diagnoses_file = input_path + '/D_ICD_DIAGNOSES.csv'\n",
    "icd_procedures_file = input_path + '/D_ICD_PROCEDURES.csv'\n",
    "icd_labItems_file = input_path + '/D_LABITEMS.csv'\n",
    "\n",
    "\n",
    "if flag_test_flag == 0:\n",
    "    admission_file = input_path + '/ADMISSIONS10.csv'\n",
    "    diagnosis_file = input_path + '/DIAGNOSES_ICD10.csv'\n",
    "    procedures_file = input_path + '/PROCEDURES_ICD10.csv'\n",
    "    labevents_file = input_path + '/LABEVENTS10.csv'\n",
    "    microbiology_file = input_path + '/microbiologyevents10.csv'\n",
    "    patients_file = input_path + '/PATIENTS.csv'\n",
    "    icustays_file = input_path + '/ICUSTAYS10.csv'\n",
    "else:\n",
    "    admission_file = input_path + '/ADMISSIONS.csv'\n",
    "    diagnosis_file = input_path + '/DIAGNOSES_ICD.csv'\n",
    "    procedures_file = input_path + '/PROCEDURES_ICD.csv'\n",
    "    labevents_file = input_path + '/LABEVENTS.csv'\n",
    "    microbiology_file = input_path + '/microbiologyevents.csv'\n",
    "    patients_file = input_path + '/PATIENTS.csv'\n",
    "    icustays_file = input_path + '/ICUSTAYS.csv'\n",
    "# 调试用的文件\n",
    "\n",
    "encounter_dict = {}\n",
    "\n",
    "# max_admission_nun 处理最大的住院患者流水数量\n",
    "print('Processing ADMISSIONS.csv')\n",
    "encounter_dict, admission_list = process_admission(admission_file, icustays_file, patients_file, encounter_dict, max_patient_num, hour_threshold=24)\n",
    "# print('Processing PATIENTS.csv')\n",
    "# encounter_dict = process_patients(patients_file, encounter_dict)\n",
    "\n",
    "\n"
   ]
  },
  {
   "cell_type": "code",
   "execution_count": 6,
   "id": "e2702bcd",
   "metadata": {},
   "outputs": [],
   "source": [
    "expired = {}\n",
    "readmission = {}\n",
    "death30 = {}\n",
    "death180 = {}\n",
    "death365 = {}\n",
    "for key in encounter_dict.keys():\n",
    "    if encounter_dict[key].encounter_id not in expired:\n",
    "        expired[encounter_dict[key].encounter_id] = encounter_dict[key].expired\n",
    "    if encounter_dict[key].encounter_id not in readmission:\n",
    "        readmission[encounter_dict[key].encounter_id] = encounter_dict[key].readmission\n",
    "    if encounter_dict[key].encounter_id not in death30:\n",
    "        death30[encounter_dict[key].encounter_id] = encounter_dict[key].Death30\n",
    "    if encounter_dict[key].encounter_id not in death180:\n",
    "        death180[encounter_dict[key].encounter_id] = encounter_dict[key].Death180      \n",
    "    if encounter_dict[key].encounter_id not in death30:\n",
    "        death365[encounter_dict[key].encounter_id] = encounter_dict[key].Death365 \n",
    "        \n",
    "#     print(key,encounter_dict[key].encounter_id,encounter_dict[key].expired,encounter_dict[key].readmission)"
   ]
  },
  {
   "cell_type": "code",
   "execution_count": 7,
   "id": "4f9fa10b",
   "metadata": {},
   "outputs": [
    {
     "name": "stdout",
     "output_type": "stream",
     "text": [
      "readmission 12134\n",
      "death30 4492\n",
      "death180 4875\n",
      "expired 4883\n",
      "56684\n",
      "56684\n"
     ]
    }
   ],
   "source": [
    "cnt = 0\n",
    "for pa in readmission:\n",
    "    if readmission[pa]==1:\n",
    "        cnt+=1\n",
    "print('readmission',cnt)\n",
    "\n",
    "\n",
    "cnt = 0\n",
    "for pa in death30:\n",
    "    if death30[pa]==1:\n",
    "        cnt+=1\n",
    "print('death30',cnt)\n",
    "\n",
    "cnt = 0\n",
    "for pa in death180:\n",
    "    if death180[pa]==1:\n",
    "        cnt+=1\n",
    "print('death180',cnt)\n",
    "\n",
    "\n",
    "cnt = 0\n",
    "for pa in expired:\n",
    "    if expired[pa]==1:\n",
    "        cnt+=1\n",
    "print('expired', cnt)\n",
    "\n",
    "#     print(death180[pa])\n",
    "print (len(expired))\n",
    "print (len(readmission))"
   ]
  },
  {
   "cell_type": "code",
   "execution_count": 8,
   "id": "6b1fa37b",
   "metadata": {},
   "outputs": [
    {
     "name": "stdout",
     "output_type": "stream",
     "text": [
      "0.07924634817585209\n"
     ]
    }
   ],
   "source": [
    "print(4492/56684)"
   ]
  },
  {
   "cell_type": "code",
   "execution_count": 9,
   "id": "2bbb0224",
   "metadata": {},
   "outputs": [
    {
     "name": "stdout",
     "output_type": "stream",
     "text": [
      "0.05777644485216287\n"
     ]
    }
   ],
   "source": [
    "print(3275/56684)"
   ]
  },
  {
   "cell_type": "code",
   "execution_count": 10,
   "id": "d821215b",
   "metadata": {},
   "outputs": [
    {
     "name": "stdout",
     "output_type": "stream",
     "text": [
      "56684\n"
     ]
    }
   ],
   "source": [
    "print(len(expired))"
   ]
  },
  {
   "cell_type": "code",
   "execution_count": 11,
   "id": "8fcdb953",
   "metadata": {},
   "outputs": [
    {
     "name": "stdout",
     "output_type": "stream",
     "text": [
      "56684\n"
     ]
    }
   ],
   "source": [
    "print(len(readmission))"
   ]
  },
  {
   "cell_type": "markdown",
   "id": "22281ec5",
   "metadata": {},
   "source": [
    "# 5. Convert DB for ReAdmPred task"
   ]
  },
  {
   "cell_type": "code",
   "execution_count": 57,
   "id": "272bc177",
   "metadata": {},
   "outputs": [],
   "source": [
    "import os\n",
    "import torch\n",
    "import numpy as np\n",
    "import pickle as pkl\n",
    "from numpy.random import choice\n",
    "from tqdm import tqdm\n",
    "out_db_name = 'dx,prx'\n",
    "db_name = 'dxprx'\n",
    "size = 2000\n",
    "DB_type = ['NoKGenc','UniKGenc','UnifiedNoKGenc','UnifiedUniKGenc']\n",
    "SPLIT = ['train','valid','test']\n",
    "SOURCE_PATH = '/home/caoyu/project/MultiModalMed/preprocessing/legacy/13-01-2021'\n",
    "knowmix_PATH='/home/caoyu/project/MultiModalMed/gtx/data/knowmix'"
   ]
  },
  {
   "cell_type": "code",
   "execution_count": 60,
   "id": "08ee7298",
   "metadata": {},
   "outputs": [
    {
     "name": "stdout",
     "output_type": "stream",
     "text": [
      "##### NoKGenc  --  train\n"
     ]
    },
    {
     "name": "stderr",
     "output_type": "stream",
     "text": [
      "28915it [00:00, 216234.00it/s]\n"
     ]
    },
    {
     "name": "stdout",
     "output_type": "stream",
     "text": [
      "dxprx,2000,train 28349\n",
      "20th sample ['</hadm_id/136706>', '</diagnoses/6695>', '</diagnoses/6693>', '</diagnoses/6692>', '</diagnoses/6697>', '</diagnoses/6696>', '</procedures/2746>', '</diagnoses/6694>', '</diagnoses_icd9_code/4280>']\n",
      "20th label 0\n",
      "##### NoKGenc  --  valid\n"
     ]
    },
    {
     "name": "stderr",
     "output_type": "stream",
     "text": [
      "2000it [00:00, 237853.24it/s]\n"
     ]
    },
    {
     "name": "stdout",
     "output_type": "stream",
     "text": [
      "dxprx,2000,valid 1963\n",
      "20th sample ['</hadm_id/167487>', '</diagnoses/75303>', '</procedures/31300>', '</diagnoses/75306>', '</procedures/31299>', '</procedures/31301>', '</diagnoses/75301>', '</procedures/31298>', '</diagnoses/75302>']\n",
      "20th label 0\n",
      "##### NoKGenc  --  test\n"
     ]
    },
    {
     "name": "stderr",
     "output_type": "stream",
     "text": [
      "2000it [00:00, 265840.85it/s]\n"
     ]
    },
    {
     "name": "stdout",
     "output_type": "stream",
     "text": [
      "dxprx,2000,test 1964\n",
      "20th sample ['</hadm_id/189391>', '</diagnoses/248511>', '</diagnoses/248498>', '</diagnoses/248515>', '</diagnoses/248522>', '</diagnoses/248512>', '</procedures/94257>', '</diagnoses/248503>', '</diagnoses/248514>']\n",
      "20th label 0\n",
      "##### UniKGenc  --  train\n"
     ]
    },
    {
     "name": "stderr",
     "output_type": "stream",
     "text": [
      "28915it [00:00, 570418.08it/s]\n"
     ]
    },
    {
     "name": "stdout",
     "output_type": "stream",
     "text": [
      "dxprx,2000,train 28349\n",
      "20th sample ['</hadm_id/136706>', '</diagnoses/6695>', '</diagnoses/6693>', '</diagnoses/6692>', '</diagnoses/6697>', '</diagnoses/6696>', '</procedures/2746>', '</diagnoses/6694>', '</diagnoses_icd9_code/4280>']\n",
      "20th label 0\n",
      "##### UniKGenc  --  valid\n"
     ]
    },
    {
     "name": "stderr",
     "output_type": "stream",
     "text": [
      "2000it [00:00, 404348.21it/s]\n"
     ]
    },
    {
     "name": "stdout",
     "output_type": "stream",
     "text": [
      "dxprx,2000,valid 1963\n",
      "20th sample ['</hadm_id/167487>', '</diagnoses/75303>', '</procedures/31300>', '</diagnoses/75306>', '</procedures/31299>', '</procedures/31301>', '</diagnoses/75301>', '</procedures/31298>', '</diagnoses/75302>']\n",
      "20th label 0\n",
      "##### UniKGenc  --  test\n"
     ]
    },
    {
     "name": "stderr",
     "output_type": "stream",
     "text": [
      "2000it [00:00, 539842.20it/s]\n"
     ]
    },
    {
     "name": "stdout",
     "output_type": "stream",
     "text": [
      "dxprx,2000,test 1964\n",
      "20th sample ['</hadm_id/189391>', '</diagnoses/248511>', '</diagnoses/248498>', '</diagnoses/248515>', '</diagnoses/248522>', '</diagnoses/248512>', '</procedures/94257>', '</diagnoses/248503>', '</diagnoses/248514>']\n",
      "20th label 0\n",
      "##### UnifiedNoKGenc  --  train\n"
     ]
    },
    {
     "name": "stderr",
     "output_type": "stream",
     "text": [
      "28915it [00:00, 513078.00it/s]\n"
     ]
    },
    {
     "name": "stdout",
     "output_type": "stream",
     "text": [
      "dxprx,2000,train 28349\n",
      "*** Saved! ***\n",
      "20th sample ['hadm', 'diagnoses', 'diagnoses', 'diagnoses', 'diagnoses', 'diagnoses', 'procedures', 'diagnoses', 'diagnoses_icd9_code']\n",
      "20th label 0\n",
      "##### UnifiedNoKGenc  --  valid\n"
     ]
    },
    {
     "name": "stderr",
     "output_type": "stream",
     "text": [
      "2000it [00:00, 433094.53it/s]\n"
     ]
    },
    {
     "name": "stdout",
     "output_type": "stream",
     "text": [
      "dxprx,2000,valid 1963\n",
      "*** Saved! ***\n",
      "20th sample ['hadm', 'diagnoses', 'procedures', 'diagnoses', 'procedures', 'procedures', 'diagnoses', 'procedures', 'diagnoses']\n",
      "20th label 0\n",
      "##### UnifiedNoKGenc  --  test\n"
     ]
    },
    {
     "name": "stderr",
     "output_type": "stream",
     "text": [
      "2000it [00:00, 464614.12it/s]\n"
     ]
    },
    {
     "name": "stdout",
     "output_type": "stream",
     "text": [
      "dxprx,2000,test 1964\n",
      "*** Saved! ***\n",
      "20th sample ['hadm', 'diagnoses', 'diagnoses', 'diagnoses', 'diagnoses', 'diagnoses', 'procedures', 'diagnoses', 'diagnoses']\n",
      "20th label 0\n",
      "##### UnifiedUniKGenc  --  train\n"
     ]
    },
    {
     "name": "stderr",
     "output_type": "stream",
     "text": [
      "28915it [00:00, 506472.14it/s]\n"
     ]
    },
    {
     "name": "stdout",
     "output_type": "stream",
     "text": [
      "dxprx,2000,train 28349\n",
      "*** Saved! ***\n",
      "20th sample ['hadm', 'diagnoses', 'diagnoses', 'diagnoses', 'diagnoses', 'diagnoses', 'procedures', 'diagnoses', 'diagnoses_icd9_code']\n",
      "20th label 0\n",
      "##### UnifiedUniKGenc  --  valid\n"
     ]
    },
    {
     "name": "stderr",
     "output_type": "stream",
     "text": [
      "2000it [00:00, 369444.55it/s]\n"
     ]
    },
    {
     "name": "stdout",
     "output_type": "stream",
     "text": [
      "dxprx,2000,valid 1963\n",
      "*** Saved! ***\n",
      "20th sample ['hadm', 'diagnoses', 'procedures', 'diagnoses', 'procedures', 'procedures', 'diagnoses', 'procedures', 'diagnoses']\n",
      "20th label 0\n",
      "##### UnifiedUniKGenc  --  test\n"
     ]
    },
    {
     "name": "stderr",
     "output_type": "stream",
     "text": [
      "2000it [00:00, 461698.94it/s]\n"
     ]
    },
    {
     "name": "stdout",
     "output_type": "stream",
     "text": [
      "dxprx,2000,test 1964\n",
      "*** Saved! ***\n",
      "20th sample ['hadm', 'diagnoses', 'diagnoses', 'diagnoses', 'diagnoses', 'diagnoses', 'procedures', 'diagnoses', 'diagnoses']\n",
      "20th label 0\n"
     ]
    }
   ],
   "source": [
    "for db_type in DB_type:\n",
    "    if \"Unified\" not in db_type:\n",
    "        NUM_SPECIAL_TOKENS = 3\n",
    "        id2label = torch.load(f'{SOURCE_PATH}/{db_name}_{db_type}/id2label')\n",
    "        label2id = {v:k for k,v in id2label.items()}\n",
    "        id2entity = {int(line.split('\\t')[1]) + NUM_SPECIAL_TOKENS: line.split('\\t')[0].split('^^')[0] for line in open(os.path.join(f'{SOURCE_PATH}/{db_name}', 'entity2id.txt')).read().splitlines()[1:]}\n",
    "        label2entity = {k:id2entity[v] for k,v in label2id.items()}\n",
    "    else:\n",
    "        id2entity = {v: k.split('\\t')[0].split('^^')[0] for k, v in\n",
    "             torch.load(f'{SOURCE_PATH}/{db_name}_{db_type}/unified_node').items()}\n",
    "\n",
    "    if db_type == 'NoKGenc':\n",
    "        global_label = list()\n",
    "    idx = 0\n",
    "    for split in SPLIT:\n",
    "        print('#####',db_type,' -- ',split)\n",
    "        db = torch.load(f'{knowmix_PATH}/{out_db_name}_{size}/{out_db_name}_{db_type}/{split}/db')\n",
    "#         db = torch.load(f'{knowmix_PATH}/{out_db_name}_{db_type}/{split}/db')\n",
    "        db_new = dict()\n",
    "        for k in db:\n",
    "            if k in ['label_mask','rc_index']:\n",
    "                continue\n",
    "            db_new[k] = list()\n",
    "        for in_db_idx, _input in tqdm(enumerate(db['input'])):\n",
    "            if db_type == 'NoKGenc':\n",
    "                hadm_id = id2entity[_input[1]].split('/')[-1].replace('>','')\n",
    "                if hadm_id in readmission:\n",
    "                    for k in db_new:\n",
    "                        if k not in ['label','label_mask','rc_index']:\n",
    "                            db_new[k].append(db[k][in_db_idx])\n",
    "                    db_new['label'].append(readmission[hadm_id])\n",
    "                    global_label.append(readmission[hadm_id])\n",
    "                else:\n",
    "                    global_label.append(None)\n",
    "            else:\n",
    "                if global_label[idx] is not None:\n",
    "                    for k in db_new:\n",
    "                        if k not in ['label','label_mask','rc_index']:\n",
    "                            db_new[k].append(db[k][in_db_idx])\n",
    "                    db_new['label'].append(global_label[idx])\n",
    "            idx += 1\n",
    "#             if idx >100:\n",
    "#                 break\n",
    "        print(f'{db_name},{size},{split}',len(db_new['label']))\n",
    "        if \"Unified\" in db_type:\n",
    "            os.makedirs(f'../gtx/data/readm/knowmix/{out_db_name}_{size}/{out_db_name}_{db_type}/{split}', exist_ok=True)\n",
    "            torch.save(db_new,f'../gtx/data/readm/knowmix/{out_db_name}_{size}/{out_db_name}_{db_type}/{split}/db')\n",
    "            print(\"*** Saved! ***\")\n",
    "        print(f\"20th sample\",[id2entity[x] for x in db_new['input'][20][1:10]])\n",
    "#         print(f\"100th sample\", [id2entity[x] for x in db_new['input'][0:20]])\n",
    "        print(f\"20th label\", db_new['label'][20])"
   ]
  },
  {
   "cell_type": "markdown",
   "id": "45f2d836",
   "metadata": {},
   "source": [
    "# 5. Convert DB for expired task （180）"
   ]
  },
  {
   "cell_type": "code",
   "execution_count": 61,
   "id": "3f8b5440",
   "metadata": {},
   "outputs": [],
   "source": [
    "import os\n",
    "import torch\n",
    "import numpy as np\n",
    "import pickle as pkl\n",
    "from numpy.random import choice\n",
    "from tqdm import tqdm\n",
    "out_db_name = 'dx,prx'\n",
    "db_name = 'dxprx'\n",
    "size = 2000\n",
    "DB_type = ['NoKGenc','UniKGenc','UnifiedNoKGenc','UnifiedUniKGenc']\n",
    "SPLIT = ['train','valid','test']\n",
    "SOURCE_PATH = '/home/caoyu/project/MultiModalMed/preprocessing/legacy/13-01-2021'\n",
    "knowmix_PATH='/home/caoyu/project/MultiModalMed/gtx/data/knowmix'"
   ]
  },
  {
   "cell_type": "code",
   "execution_count": 62,
   "id": "b3b72408",
   "metadata": {},
   "outputs": [
    {
     "name": "stdout",
     "output_type": "stream",
     "text": [
      "##### NoKGenc  --  train\n"
     ]
    },
    {
     "name": "stderr",
     "output_type": "stream",
     "text": [
      "28915it [00:00, 300238.40it/s]\n"
     ]
    },
    {
     "name": "stdout",
     "output_type": "stream",
     "text": [
      "dxprx,2000,train 28349\n",
      "20th sample ['</hadm_id/136706>', '</diagnoses/6695>', '</diagnoses/6693>', '</diagnoses/6692>', '</diagnoses/6697>', '</diagnoses/6696>', '</procedures/2746>', '</diagnoses/6694>', '</diagnoses_icd9_code/4280>']\n",
      "20th label 0\n",
      "##### NoKGenc  --  valid\n"
     ]
    },
    {
     "name": "stderr",
     "output_type": "stream",
     "text": [
      "2000it [00:00, 300225.76it/s]\n"
     ]
    },
    {
     "name": "stdout",
     "output_type": "stream",
     "text": [
      "dxprx,2000,valid 1963\n",
      "20th sample ['</hadm_id/167487>', '</diagnoses/75303>', '</procedures/31300>', '</diagnoses/75306>', '</procedures/31299>', '</procedures/31301>', '</diagnoses/75301>', '</procedures/31298>', '</diagnoses/75302>']\n",
      "20th label 0\n",
      "##### NoKGenc  --  test\n"
     ]
    },
    {
     "name": "stderr",
     "output_type": "stream",
     "text": [
      "2000it [00:00, 280414.78it/s]\n"
     ]
    },
    {
     "name": "stdout",
     "output_type": "stream",
     "text": [
      "dxprx,2000,test 1964\n",
      "20th sample ['</hadm_id/189391>', '</diagnoses/248511>', '</diagnoses/248498>', '</diagnoses/248515>', '</diagnoses/248522>', '</diagnoses/248512>', '</procedures/94257>', '</diagnoses/248503>', '</diagnoses/248514>']\n",
      "20th label 0\n",
      "##### UniKGenc  --  train\n"
     ]
    },
    {
     "name": "stderr",
     "output_type": "stream",
     "text": [
      "28915it [00:00, 564873.31it/s]\n"
     ]
    },
    {
     "name": "stdout",
     "output_type": "stream",
     "text": [
      "dxprx,2000,train 28349\n",
      "20th sample ['</hadm_id/136706>', '</diagnoses/6695>', '</diagnoses/6693>', '</diagnoses/6692>', '</diagnoses/6697>', '</diagnoses/6696>', '</procedures/2746>', '</diagnoses/6694>', '</diagnoses_icd9_code/4280>']\n",
      "20th label 0\n",
      "##### UniKGenc  --  valid\n"
     ]
    },
    {
     "name": "stderr",
     "output_type": "stream",
     "text": [
      "2000it [00:00, 437179.90it/s]\n"
     ]
    },
    {
     "name": "stdout",
     "output_type": "stream",
     "text": [
      "dxprx,2000,valid 1963\n",
      "20th sample ['</hadm_id/167487>', '</diagnoses/75303>', '</procedures/31300>', '</diagnoses/75306>', '</procedures/31299>', '</procedures/31301>', '</diagnoses/75301>', '</procedures/31298>', '</diagnoses/75302>']\n",
      "20th label 0\n",
      "##### UniKGenc  --  test\n"
     ]
    },
    {
     "name": "stderr",
     "output_type": "stream",
     "text": [
      "2000it [00:00, 586862.18it/s]\n"
     ]
    },
    {
     "name": "stdout",
     "output_type": "stream",
     "text": [
      "dxprx,2000,test 1964\n",
      "20th sample ['</hadm_id/189391>', '</diagnoses/248511>', '</diagnoses/248498>', '</diagnoses/248515>', '</diagnoses/248522>', '</diagnoses/248512>', '</procedures/94257>', '</diagnoses/248503>', '</diagnoses/248514>']\n",
      "20th label 0\n",
      "##### UnifiedNoKGenc  --  train\n"
     ]
    },
    {
     "name": "stderr",
     "output_type": "stream",
     "text": [
      "28915it [00:00, 615707.15it/s]\n"
     ]
    },
    {
     "name": "stdout",
     "output_type": "stream",
     "text": [
      "dxprx,2000,train 28349\n",
      "*** Saved! ***\n",
      "20th sample ['hadm', 'diagnoses', 'diagnoses', 'diagnoses', 'diagnoses', 'diagnoses', 'procedures', 'diagnoses', 'diagnoses_icd9_code']\n",
      "20th label 0\n",
      "##### UnifiedNoKGenc  --  valid\n"
     ]
    },
    {
     "name": "stderr",
     "output_type": "stream",
     "text": [
      "2000it [00:00, 514354.53it/s]\n"
     ]
    },
    {
     "name": "stdout",
     "output_type": "stream",
     "text": [
      "dxprx,2000,valid 1963\n",
      "*** Saved! ***\n",
      "20th sample ['hadm', 'diagnoses', 'procedures', 'diagnoses', 'procedures', 'procedures', 'diagnoses', 'procedures', 'diagnoses']\n",
      "20th label 0\n",
      "##### UnifiedNoKGenc  --  test\n"
     ]
    },
    {
     "name": "stderr",
     "output_type": "stream",
     "text": [
      "2000it [00:00, 536561.85it/s]\n"
     ]
    },
    {
     "name": "stdout",
     "output_type": "stream",
     "text": [
      "dxprx,2000,test 1964\n",
      "*** Saved! ***\n",
      "20th sample ['hadm', 'diagnoses', 'diagnoses', 'diagnoses', 'diagnoses', 'diagnoses', 'procedures', 'diagnoses', 'diagnoses']\n",
      "20th label 0\n",
      "##### UnifiedUniKGenc  --  train\n"
     ]
    },
    {
     "name": "stderr",
     "output_type": "stream",
     "text": [
      "28915it [00:00, 517423.17it/s]\n"
     ]
    },
    {
     "name": "stdout",
     "output_type": "stream",
     "text": [
      "dxprx,2000,train 28349\n",
      "*** Saved! ***\n",
      "20th sample ['hadm', 'diagnoses', 'diagnoses', 'diagnoses', 'diagnoses', 'diagnoses', 'procedures', 'diagnoses', 'diagnoses_icd9_code']\n",
      "20th label 0\n",
      "##### UnifiedUniKGenc  --  valid\n"
     ]
    },
    {
     "name": "stderr",
     "output_type": "stream",
     "text": [
      "2000it [00:00, 357845.24it/s]\n"
     ]
    },
    {
     "name": "stdout",
     "output_type": "stream",
     "text": [
      "dxprx,2000,valid 1963\n",
      "*** Saved! ***\n",
      "20th sample ['hadm', 'diagnoses', 'procedures', 'diagnoses', 'procedures', 'procedures', 'diagnoses', 'procedures', 'diagnoses']\n",
      "20th label 0\n",
      "##### UnifiedUniKGenc  --  test\n"
     ]
    },
    {
     "name": "stderr",
     "output_type": "stream",
     "text": [
      "2000it [00:00, 470187.10it/s]\n"
     ]
    },
    {
     "name": "stdout",
     "output_type": "stream",
     "text": [
      "dxprx,2000,test 1964\n",
      "*** Saved! ***\n",
      "20th sample ['hadm', 'diagnoses', 'diagnoses', 'diagnoses', 'diagnoses', 'diagnoses', 'procedures', 'diagnoses', 'diagnoses']\n",
      "20th label 0\n"
     ]
    }
   ],
   "source": [
    "for db_type in DB_type:\n",
    "    if \"Unified\" not in db_type:\n",
    "        NUM_SPECIAL_TOKENS = 3\n",
    "        id2label = torch.load(f'{SOURCE_PATH}/{db_name}_{db_type}/id2label')\n",
    "        label2id = {v:k for k,v in id2label.items()}\n",
    "        id2entity = {int(line.split('\\t')[1]) + NUM_SPECIAL_TOKENS: line.split('\\t')[0].split('^^')[0] for line in open(os.path.join(f'{SOURCE_PATH}/{db_name}', 'entity2id.txt')).read().splitlines()[1:]}\n",
    "        label2entity = {k:id2entity[v] for k,v in label2id.items()}\n",
    "    else:\n",
    "        id2entity = {v: k.split('\\t')[0].split('^^')[0] for k, v in\n",
    "             torch.load(f'{SOURCE_PATH}/{db_name}_{db_type}/unified_node').items()}\n",
    "\n",
    "    if db_type == 'NoKGenc':\n",
    "        global_label = list()\n",
    "    idx = 0\n",
    "    for split in SPLIT:\n",
    "        print('#####',db_type,' -- ',split)\n",
    "        db = torch.load(f'{knowmix_PATH}/{out_db_name}_{size}/{out_db_name}_{db_type}/{split}/db')\n",
    "#         db = torch.load(f'{SOURCE_PATH}/{db_name}_{db_type}/{split}/db')\n",
    "        db_new = dict()\n",
    "        for k in db:\n",
    "            if k in ['label_mask','rc_index']:\n",
    "                continue\n",
    "            db_new[k] = list()\n",
    "        for in_db_idx, _input in tqdm(enumerate(db['input'])):\n",
    "            if db_type == 'NoKGenc':\n",
    "                hadm_id = id2entity[_input[1]].split('/')[-1].replace('>','')\n",
    "                if hadm_id in death180:\n",
    "                    for k in db_new:\n",
    "                        if k not in ['label','label_mask','rc_index']:\n",
    "                            db_new[k].append(db[k][in_db_idx])\n",
    "                    db_new['label'].append(death180[hadm_id])\n",
    "                    global_label.append(death180[hadm_id])\n",
    "                else:\n",
    "                    global_label.append(None)\n",
    "            else:\n",
    "                if global_label[idx] is not None:\n",
    "                    for k in db_new:\n",
    "                        if k not in ['label','label_mask','rc_index']:\n",
    "                            db_new[k].append(db[k][in_db_idx])\n",
    "                    db_new['label'].append(global_label[idx])\n",
    "            idx += 1\n",
    "#             if idx >100:\n",
    "#                 break\n",
    "        print(f'{db_name},{size},{split}',len(db_new['label']))\n",
    "        if \"Unified\" in db_type:\n",
    "            os.makedirs(f'../gtx/data/Death180/knowmix/{out_db_name}_{size}/{out_db_name}_{db_type}/{split}', exist_ok=True)\n",
    "            torch.save(db_new,f'../gtx/data/Death180/knowmix/{out_db_name}_{size}/{out_db_name}_{db_type}/{split}/db')\n",
    "            print(\"*** Saved! ***\")\n",
    "        print(f\"20th sample\",[id2entity[x] for x in db_new['input'][20][1:10]])\n",
    "#         print(f\"100th sample\", [id2entity[x] for x in db_new['input'][0:20]])\n",
    "        print(f\"20th label\", db_new['label'][20])"
   ]
  },
  {
   "cell_type": "markdown",
   "id": "d5e97f63",
   "metadata": {},
   "source": [
    "# 5. Convert DB for expired task （30）"
   ]
  },
  {
   "cell_type": "code",
   "execution_count": 63,
   "id": "aa20cbc9",
   "metadata": {},
   "outputs": [],
   "source": [
    "import os\n",
    "import torch\n",
    "import numpy as np\n",
    "import pickle as pkl\n",
    "from numpy.random import choice\n",
    "from tqdm import tqdm\n",
    "out_db_name = 'dx,prx'\n",
    "db_name = 'dxprx'\n",
    "size = 2000\n",
    "DB_type = ['NoKGenc','UniKGenc','UnifiedNoKGenc','UnifiedUniKGenc']\n",
    "SPLIT = ['train','valid','test']\n",
    "SOURCE_PATH = '/home/caoyu/project/MultiModalMed/preprocessing/legacy/13-01-2021'\n",
    "knowmix_PATH='/home/caoyu/project/MultiModalMed/gtx/data/knowmix'"
   ]
  },
  {
   "cell_type": "code",
   "execution_count": 64,
   "id": "aa0fcba6",
   "metadata": {},
   "outputs": [
    {
     "name": "stdout",
     "output_type": "stream",
     "text": [
      "##### NoKGenc  --  train\n"
     ]
    },
    {
     "name": "stderr",
     "output_type": "stream",
     "text": [
      "28915it [00:00, 220011.18it/s]\n"
     ]
    },
    {
     "name": "stdout",
     "output_type": "stream",
     "text": [
      "dxprx,2000,train 28349\n",
      "20th sample ['</hadm_id/136706>', '</diagnoses/6695>', '</diagnoses/6693>', '</diagnoses/6692>', '</diagnoses/6697>', '</diagnoses/6696>', '</procedures/2746>', '</diagnoses/6694>', '</diagnoses_icd9_code/4280>']\n",
      "20th label 0\n",
      "##### NoKGenc  --  valid\n"
     ]
    },
    {
     "name": "stderr",
     "output_type": "stream",
     "text": [
      "2000it [00:00, 228311.14it/s]\n"
     ]
    },
    {
     "name": "stdout",
     "output_type": "stream",
     "text": [
      "dxprx,2000,valid 1963\n",
      "20th sample ['</hadm_id/167487>', '</diagnoses/75303>', '</procedures/31300>', '</diagnoses/75306>', '</procedures/31299>', '</procedures/31301>', '</diagnoses/75301>', '</procedures/31298>', '</diagnoses/75302>']\n",
      "20th label 0\n",
      "##### NoKGenc  --  test\n"
     ]
    },
    {
     "name": "stderr",
     "output_type": "stream",
     "text": [
      "2000it [00:00, 234318.66it/s]\n"
     ]
    },
    {
     "name": "stdout",
     "output_type": "stream",
     "text": [
      "dxprx,2000,test 1964\n",
      "20th sample ['</hadm_id/189391>', '</diagnoses/248511>', '</diagnoses/248498>', '</diagnoses/248515>', '</diagnoses/248522>', '</diagnoses/248512>', '</procedures/94257>', '</diagnoses/248503>', '</diagnoses/248514>']\n",
      "20th label 0\n",
      "##### UniKGenc  --  train\n"
     ]
    },
    {
     "name": "stderr",
     "output_type": "stream",
     "text": [
      "28915it [00:00, 536055.64it/s]\n"
     ]
    },
    {
     "name": "stdout",
     "output_type": "stream",
     "text": [
      "dxprx,2000,train 28349\n",
      "20th sample ['</hadm_id/136706>', '</diagnoses/6695>', '</diagnoses/6693>', '</diagnoses/6692>', '</diagnoses/6697>', '</diagnoses/6696>', '</procedures/2746>', '</diagnoses/6694>', '</diagnoses_icd9_code/4280>']\n",
      "20th label 0\n",
      "##### UniKGenc  --  valid\n"
     ]
    },
    {
     "name": "stderr",
     "output_type": "stream",
     "text": [
      "2000it [00:00, 380902.15it/s]\n"
     ]
    },
    {
     "name": "stdout",
     "output_type": "stream",
     "text": [
      "dxprx,2000,valid 1963\n",
      "20th sample ['</hadm_id/167487>', '</diagnoses/75303>', '</procedures/31300>', '</diagnoses/75306>', '</procedures/31299>', '</procedures/31301>', '</diagnoses/75301>', '</procedures/31298>', '</diagnoses/75302>']\n",
      "20th label 0\n",
      "##### UniKGenc  --  test\n"
     ]
    },
    {
     "name": "stderr",
     "output_type": "stream",
     "text": [
      "2000it [00:00, 520934.48it/s]\n"
     ]
    },
    {
     "name": "stdout",
     "output_type": "stream",
     "text": [
      "dxprx,2000,test 1964\n",
      "20th sample ['</hadm_id/189391>', '</diagnoses/248511>', '</diagnoses/248498>', '</diagnoses/248515>', '</diagnoses/248522>', '</diagnoses/248512>', '</procedures/94257>', '</diagnoses/248503>', '</diagnoses/248514>']\n",
      "20th label 0\n",
      "##### UnifiedNoKGenc  --  train\n"
     ]
    },
    {
     "name": "stderr",
     "output_type": "stream",
     "text": [
      "28915it [00:00, 610693.84it/s]\n"
     ]
    },
    {
     "name": "stdout",
     "output_type": "stream",
     "text": [
      "dxprx,2000,train 28349\n",
      "*** Saved! ***\n",
      "20th sample ['hadm', 'diagnoses', 'diagnoses', 'diagnoses', 'diagnoses', 'diagnoses', 'procedures', 'diagnoses', 'diagnoses_icd9_code']\n",
      "20th label 0\n",
      "##### UnifiedNoKGenc  --  valid\n"
     ]
    },
    {
     "name": "stderr",
     "output_type": "stream",
     "text": [
      "2000it [00:00, 416845.96it/s]\n"
     ]
    },
    {
     "name": "stdout",
     "output_type": "stream",
     "text": [
      "dxprx,2000,valid 1963\n",
      "*** Saved! ***\n",
      "20th sample ['hadm', 'diagnoses', 'procedures', 'diagnoses', 'procedures', 'procedures', 'diagnoses', 'procedures', 'diagnoses']\n",
      "20th label 0\n",
      "##### UnifiedNoKGenc  --  test\n"
     ]
    },
    {
     "name": "stderr",
     "output_type": "stream",
     "text": [
      "2000it [00:00, 554728.74it/s]\n"
     ]
    },
    {
     "name": "stdout",
     "output_type": "stream",
     "text": [
      "dxprx,2000,test 1964\n",
      "*** Saved! ***\n",
      "20th sample ['hadm', 'diagnoses', 'diagnoses', 'diagnoses', 'diagnoses', 'diagnoses', 'procedures', 'diagnoses', 'diagnoses']\n",
      "20th label 0\n",
      "##### UnifiedUniKGenc  --  train\n"
     ]
    },
    {
     "name": "stderr",
     "output_type": "stream",
     "text": [
      "28915it [00:00, 504504.33it/s]\n"
     ]
    },
    {
     "name": "stdout",
     "output_type": "stream",
     "text": [
      "dxprx,2000,train 28349\n",
      "*** Saved! ***\n",
      "20th sample ['hadm', 'diagnoses', 'diagnoses', 'diagnoses', 'diagnoses', 'diagnoses', 'procedures', 'diagnoses', 'diagnoses_icd9_code']\n",
      "20th label 0\n",
      "##### UnifiedUniKGenc  --  valid\n"
     ]
    },
    {
     "name": "stderr",
     "output_type": "stream",
     "text": [
      "2000it [00:00, 282596.95it/s]\n"
     ]
    },
    {
     "name": "stdout",
     "output_type": "stream",
     "text": [
      "dxprx,2000,valid 1963\n",
      "*** Saved! ***\n",
      "20th sample ['hadm', 'diagnoses', 'procedures', 'diagnoses', 'procedures', 'procedures', 'diagnoses', 'procedures', 'diagnoses']\n",
      "20th label 0\n",
      "##### UnifiedUniKGenc  --  test\n"
     ]
    },
    {
     "name": "stderr",
     "output_type": "stream",
     "text": [
      "2000it [00:00, 433049.82it/s]\n"
     ]
    },
    {
     "name": "stdout",
     "output_type": "stream",
     "text": [
      "dxprx,2000,test 1964\n",
      "*** Saved! ***\n",
      "20th sample ['hadm', 'diagnoses', 'diagnoses', 'diagnoses', 'diagnoses', 'diagnoses', 'procedures', 'diagnoses', 'diagnoses']\n",
      "20th label 0\n"
     ]
    }
   ],
   "source": [
    "for db_type in DB_type:\n",
    "    if \"Unified\" not in db_type:\n",
    "        NUM_SPECIAL_TOKENS = 3\n",
    "        id2label = torch.load(f'{SOURCE_PATH}/{db_name}_{db_type}/id2label')\n",
    "        label2id = {v:k for k,v in id2label.items()}\n",
    "        id2entity = {int(line.split('\\t')[1]) + NUM_SPECIAL_TOKENS: line.split('\\t')[0].split('^^')[0] for line in open(os.path.join(f'{SOURCE_PATH}/{db_name}', 'entity2id.txt')).read().splitlines()[1:]}\n",
    "        label2entity = {k:id2entity[v] for k,v in label2id.items()}\n",
    "    else:\n",
    "        id2entity = {v: k.split('\\t')[0].split('^^')[0] for k, v in\n",
    "             torch.load(f'{SOURCE_PATH}/{db_name}_{db_type}/unified_node').items()}\n",
    "\n",
    "    if db_type == 'NoKGenc':\n",
    "        global_label = list()\n",
    "    idx = 0\n",
    "    for split in SPLIT:\n",
    "        print('#####',db_type,' -- ',split)\n",
    "        db = torch.load(f'{knowmix_PATH}/{out_db_name}_{size}/{out_db_name}_{db_type}/{split}/db')\n",
    "#         db = torch.load(f'{SOURCE_PATH}/{db_name}_{db_type}/{split}/db')\n",
    "        db_new = dict()\n",
    "        for k in db:\n",
    "            if k in ['label_mask','rc_index']:\n",
    "                continue\n",
    "            db_new[k] = list()\n",
    "        for in_db_idx, _input in tqdm(enumerate(db['input'])):\n",
    "            if db_type == 'NoKGenc':\n",
    "                hadm_id = id2entity[_input[1]].split('/')[-1].replace('>','')\n",
    "                if hadm_id in death30:\n",
    "                    for k in db_new:\n",
    "                        if k not in ['label','label_mask','rc_index']:\n",
    "                            db_new[k].append(db[k][in_db_idx])\n",
    "                    db_new['label'].append(death30[hadm_id])\n",
    "                    global_label.append(death30[hadm_id])\n",
    "                else:\n",
    "                    global_label.append(None)\n",
    "            else:\n",
    "                if global_label[idx] is not None:\n",
    "                    for k in db_new:\n",
    "                        if k not in ['label','label_mask','rc_index']:\n",
    "                            db_new[k].append(db[k][in_db_idx])\n",
    "                    db_new['label'].append(global_label[idx])\n",
    "            idx += 1\n",
    "#             if idx >100:\n",
    "#                 break\n",
    "        print(f'{db_name},{size},{split}',len(db_new['label']))\n",
    "        if \"Unified\" in db_type:\n",
    "            os.makedirs(f'../gtx/data/Death30/knowmix/{out_db_name}_{size}/{out_db_name}_{db_type}/{split}', exist_ok=True)\n",
    "            torch.save(db_new,f'../gtx/data/Death30/knowmix/{out_db_name}_{size}/{out_db_name}_{db_type}/{split}/db')\n",
    "            print(\"*** Saved! ***\")\n",
    "        print(f\"20th sample\",[id2entity[x] for x in db_new['input'][20][1:10]])\n",
    "#         print(f\"100th sample\", [id2entity[x] for x in db_new['input'][0:20]])\n",
    "        print(f\"20th label\", db_new['label'][20])"
   ]
  },
  {
   "cell_type": "markdown",
   "id": "d6ca9f23",
   "metadata": {},
   "source": [
    "# 3. Convert DB for ErrorDetection for Px,Dx"
   ]
  },
  {
   "cell_type": "code",
   "execution_count": 18,
   "id": "e45ffebb",
   "metadata": {},
   "outputs": [],
   "source": [
    "# Load D_ICD files\n",
    "import torch\n",
    "import pandas as pd\n",
    "d_proc = pd.read_csv(\"/home/caoyu/project/GraphCLHealth/data/mimiciii//D_ICD_PROCEDURES.csv\")\n",
    "d_diag = pd.read_csv(\"/home/caoyu/project/GraphCLHealth/data/mimiciii//D_ICD_DIAGNOSES.csv\")"
   ]
  },
  {
   "cell_type": "code",
   "execution_count": 19,
   "id": "32e0cdb1",
   "metadata": {},
   "outputs": [],
   "source": [
    "def reformat(code, is_diag):\n",
    "    \"\"\"\n",
    "        Put a period in the right place because the MIMIC-3 data files exclude them.\n",
    "        Generally, procedure codes have dots after the first two digits, \n",
    "        while diagnosis codes have dots after the first three digits.\n",
    "    \"\"\"\n",
    "    code = ''.join(code.split('.'))\n",
    "    if is_diag:\n",
    "        if code.startswith('E'):\n",
    "            if len(code) > 4:\n",
    "                code = code[:4] + '.' + code[4:]\n",
    "        else:\n",
    "            if len(code) > 3:\n",
    "                code = code[:3] + '.' + code[3:]\n",
    "    else:\n",
    "        code = code[:2] + '.' + code[2:]\n",
    "    return code"
   ]
  },
  {
   "cell_type": "code",
   "execution_count": 20,
   "id": "788acbe8",
   "metadata": {},
   "outputs": [],
   "source": [
    "d_diag['absolute_code'] = d_diag.apply(lambda row: str(reformat(str(row[1]), True)), axis=1)\n",
    "d_proc['absolute_code'] = d_proc.apply(lambda row: str(reformat(str(row[1]), False)), axis=1)"
   ]
  },
  {
   "cell_type": "code",
   "execution_count": 21,
   "id": "447fc9f8",
   "metadata": {},
   "outputs": [],
   "source": [
    "d_diag['code_name'] = d_diag.apply(lambda row: str(row[3]).lower().strip(), axis=1)\n",
    "d_proc['code_name'] = d_proc.apply(lambda row: str(row[3]).lower().strip(), axis=1)"
   ]
  },
  {
   "cell_type": "code",
   "execution_count": 22,
   "id": "3713509f",
   "metadata": {},
   "outputs": [],
   "source": [
    "d_diag_dict = d_diag[['absolute_code','code_name']].to_dict()\n",
    "d_code2name = {d_diag_dict['absolute_code'][idx]:d_diag_dict['code_name'][idx] for idx in range(len(d_diag))}\n",
    "d_name2codecat = {d_diag_dict['code_name'][idx]:dict([('large',d_diag_dict['absolute_code'][idx].split(\".\")[0]),('small',d_diag_dict['absolute_code'][idx].split(\".\")[-1] if len(d_diag_dict['absolute_code'][idx].split(\".\"))>1 else \"\")])  for idx in range(len(d_diag))}\n",
    "d_proc_dict = d_proc[['absolute_code','code_name']].to_dict()\n",
    "p_code2name = {d_proc_dict['absolute_code'][idx]:d_proc_dict['code_name'][idx] for idx in range(len(d_proc))}\n",
    "p_name2codecat = {d_proc_dict['code_name'][idx]:dict([('large',d_proc_dict['absolute_code'][idx].split(\".\")[0]),('small',d_proc_dict['absolute_code'][idx].split(\".\")[-1] if len(d_diag_dict['absolute_code'][idx].split(\".\"))>1 else \"\")])  for idx in range(len(d_proc))}\n"
   ]
  },
  {
   "cell_type": "code",
   "execution_count": 23,
   "id": "3c4be985",
   "metadata": {},
   "outputs": [],
   "source": [
    "code2name = dict()\n",
    "for d in [d_code2name, p_code2name]:\n",
    "    for k,v in d.items():\n",
    "        code2name[k.lower()] = f'{v}'"
   ]
  },
  {
   "cell_type": "code",
   "execution_count": 24,
   "id": "8be12d7b",
   "metadata": {},
   "outputs": [],
   "source": [
    "name2codecat = dict()\n",
    "for d in [d_name2codecat, p_name2codecat]:\n",
    "    for k,v in d.items():\n",
    "        v['large'] = v['large'].lower()\n",
    "        name2codecat[f'{k}'] = v"
   ]
  },
  {
   "cell_type": "code",
   "execution_count": 25,
   "id": "3c884b1a",
   "metadata": {},
   "outputs": [],
   "source": [
    "code2name_abs = dict()\n",
    "for d in [d_code2name, p_code2name]:\n",
    "    for k,v in d.items():\n",
    "        code2name_abs[k.lower()] = f'{v}'\n",
    "codebook = dict()\n",
    "for k in code2name_abs:\n",
    "    try:\n",
    "        large, small = k.split(\".\")\n",
    "    except:\n",
    "        large, small = k, \"\"\n",
    "    if large not in codebook:\n",
    "        codebook[large] = list()\n",
    "    codebook[large].append(small)\n",
    "    "
   ]
  },
  {
   "cell_type": "code",
   "execution_count": 44,
   "id": "f4efccaf",
   "metadata": {},
   "outputs": [],
   "source": [
    "import os\n",
    "import torch\n",
    "from copy import deepcopy\n",
    "import numpy as np\n",
    "from numpy.random import choice\n",
    "from tqdm import tqdm\n",
    "db_name = 'dx,prx'\n",
    "db_name_source = 'dxprx'\n",
    "size = 2000\n",
    "DB_type = ['NoKGenc','UniKGenc','UnifiedNoKGenc','UnifiedUniKGenc']#,'UnifiedNoKGenc','UnifiedUniKGenc']\n",
    "SPLIT = ['train','valid','test']\n",
    "SOURCE_PATH = '/home/caoyu/project/MultiModalMed/preprocessing/legacy/13-01-2021'"
   ]
  },
  {
   "cell_type": "code",
   "execution_count": 47,
   "id": "69d6d36d",
   "metadata": {},
   "outputs": [
    {
     "data": {
      "text/plain": [
       "{0: 'PAD',\n",
       " 1: 'MASK',\n",
       " 2: 'CLS',\n",
       " 3: 'hadm',\n",
       " 4: 'diagnoses_icd9_code',\n",
       " 5: 'diagnoses',\n",
       " 6: 'procedures_icd9_code',\n",
       " 7: 'procedures',\n",
       " 8: 'anastomosis of hepatic duct to gastrointestinal tract',\n",
       " 9: 'closed fracture of scapula, unspecified part',\n",
       " 10: 'closure of other rectal fistula',\n",
       " 11: 'other repair of rectum',\n",
       " 12: 'malignant neoplasm of trachea',\n",
       " 13: 'pica',\n",
       " 14: 'closed fracture of patella',\n",
       " 15: 'bone graft, carpals and metacarpals',\n",
       " 16: 'dental caries, unspecified',\n",
       " 17: 'other intubation of respiratory tract',\n",
       " 18: 'carcinoma in situ of liver and biliary system',\n",
       " 19: 'insertion of sphenoidal electrodes',\n",
       " 20: 'repair of arteriovenous fistula',\n",
       " 21: 'asbestosis',\n",
       " 22: 'gamma globulin causing adverse effects in therapeutic use',\n",
       " 23: 'other and unspecified intracranial hemorrhage following injury with open intracranial wound, with loss of consciousness of unspecified duration',\n",
       " 24: 'arteriography of femoral and other lower extremity arteries',\n",
       " 25: 'administration of inhaled nitric oxide',\n",
       " 26: 'external hemorrhoids with other complication',\n",
       " 27: 'other inflammatory disease of cervix, vagina and vulva',\n",
       " 28: 'malignant neoplasm of cerebral meninges',\n",
       " 29: 'other puncture of artery',\n",
       " 30: 'other specified transient cerebral ischemias',\n",
       " 31: 'closed dislocation of elbow, unspecified',\n",
       " 32: 'phlebitis and thrombophlebitis of intracranial venous sinuses',\n",
       " 33: 'intracranial pressure monitoring',\n",
       " 34: \"raynaud's syndrome\",\n",
       " 35: 'open wound of wrist, without mention of complication',\n",
       " 36: 'difficulty in walking',\n",
       " 37: 'poisoning by monoamine oxidase inhibitors',\n",
       " 38: 'division of joint capsule, ligament, or cartilage, shoulder',\n",
       " 39: 'other specified paralytic syndrome',\n",
       " 40: 'benign neoplasm of brain',\n",
       " 41: 'other orchitis, epididymitis, and epididymo-orchitis, without mention of abscess',\n",
       " 42: 'late effect of fracture of neck of femur',\n",
       " 43: 'obstructive hydrocephalus',\n",
       " 44: 'moderate intellectual disabilities',\n",
       " 45: 'other and unspecified repair of unspecified septal defect of heart',\n",
       " 46: 'other specified conditions of the tongue',\n",
       " 47: 'injury to common femoral artery',\n",
       " 48: 'other forms of keratitis',\n",
       " 49: 'phlebitis and thrombophlebitis of deep veins of upper extremities',\n",
       " 50: 'graft-versus-host disease, unspecified',\n",
       " 51: 'other diagnostic procedures on brain and cerebral meninges',\n",
       " 52: 'subdural hemorrhage following injury without mention of open intracranial wound, with no loss of consciousness',\n",
       " 53: 'percutaneous aspiration of liver',\n",
       " 54: 'other injury to small intestine, with open wound into cavity',\n",
       " 55: \"surgical or other procedure not carried out because of patient's decision\",\n",
       " 56: 'urethral discharge',\n",
       " 57: 'chronic cholecystitis',\n",
       " 58: 'open wound of back, complicated',\n",
       " 59: 'other nervous system complications',\n",
       " 60: \"alzheimer's disease\",\n",
       " 61: 'open fracture of lunate [semilunar] bone of wrist',\n",
       " 62: 'revision of knee replacement, tibial component',\n",
       " 63: 'transfusion of other serum',\n",
       " 64: 'ultrasonic fragmentation of urinary stones',\n",
       " 65: 'ethmoidectomy',\n",
       " 66: 'open heart valvuloplasty of mitral valve without replacement',\n",
       " 67: 'open wound of upper arm, complicated',\n",
       " 68: 'umbilical hernia without mention of obstruction or gangrene',\n",
       " 69: 'other specified congenital anomalies of brain',\n",
       " 70: 'shock during or following labor and delivery, delivered, with or without mention of antepartum condition',\n",
       " 71: 'culdotomy',\n",
       " 72: 'malignant neoplasm of peritoneum, unspecified',\n",
       " 73: 'other antesternal anastomosis of esophagus',\n",
       " 74: 'removal of gastrostomy tube',\n",
       " 75: 'antesternal esophagogastrostomy',\n",
       " 76: 'debridement of open fracture site, tarsals and metatarsals',\n",
       " 77: 'other specified viral infection',\n",
       " 78: 'other and unspecified angina pectoris',\n",
       " 79: 'biopsy of diaphragm',\n",
       " 80: 'toxic effect of venom',\n",
       " 81: 'subarachnoid hemorrhage',\n",
       " 82: 'disruption of cesarean wound, postpartum condition or complication',\n",
       " 83: 'cellulitis and abscess of other specified sites',\n",
       " 84: 'acute gastric ulcer without mention of hemorrhage or perforation, without mention of obstruction',\n",
       " 85: 'insertion of other vaginal pessary',\n",
       " 86: 'open reduction of mandibular fracture',\n",
       " 87: 'endoscopic control of gastric or duodenal bleeding',\n",
       " 88: 'other x-ray of abdomen',\n",
       " 89: 'acute duodenal ulcer with hemorrhage and perforation, without mention of obstruction',\n",
       " 90: 'other and unspecified superficial injury of other, multiple, and unspecified sites, without mention of infection',\n",
       " 91: 'other specified dermatomycoses',\n",
       " 92: 'paroxysmal ventricular tachycardia',\n",
       " 93: 'closed [endoscopic] biopsy of rectum',\n",
       " 94: 'other injury of abdomen',\n",
       " 95: 'empyema with fistula',\n",
       " 96: 'narcolepsy, without cataplexy',\n",
       " 97: 'closed fracture of shaft of radius with ulna',\n",
       " 98: 'crushing injury of finger(s)',\n",
       " 99: 'ligation of bronchus',\n",
       " 100: 'open-angle glaucoma, unspecified',\n",
       " 101: 'genetic torsion dystonia',\n",
       " 102: 'peripheral angiopathy in diseases classified elsewhere',\n",
       " 103: 'nonpyogenic thrombosis of intracranial venous sinus',\n",
       " 104: 'contracture of joint, multiple sites',\n",
       " 105: 'histrionic personality disorder, unspecified',\n",
       " 106: 'chondrocalcinosis, unspecified, multiple sites',\n",
       " 107: 'cerebellar or brain stem laceration with open intracranial wound, with prolonged [more than 24 hours] loss of consciousness without return to pre-existing conscious level',\n",
       " 108: 'other unilateral oophorectomy',\n",
       " 109: 'other local excision of lesion of duodenum',\n",
       " 110: 'recent retinal detachment, partial, with single defect',\n",
       " 111: 'myotonic muscular dystrophy',\n",
       " 112: 'transfusion of other substance',\n",
       " 113: 'radical pancreaticoduodenectomy',\n",
       " 114: 'open wound of toe(s), without mention of complication',\n",
       " 115: 'folate-deficiency anemia',\n",
       " 116: 'other chronic pain',\n",
       " 117: 'muscle weakness (generalized)',\n",
       " 118: 'other fall',\n",
       " 119: 'injection of anesthetic into sympathetic nerve for analgesia',\n",
       " 120: 'hepatitis in viral diseases classified elsewhere',\n",
       " 121: 'bilateral paralysis of vocal cords or larynx, partial',\n",
       " 122: 'cough',\n",
       " 123: 'malayan filariasis',\n",
       " 124: 'situs inversus',\n",
       " 125: 'closed fracture of vault of skull with cerebral laceration and contusion, with moderate [1-24 hours] loss of consciousness',\n",
       " 126: 'insertion of gastric or duodenal sound as the cause of abnormal reaction of patient, or of later complication, without mention of misadventure of time of procedure',\n",
       " 127: 'other phototherapy',\n",
       " 128: 'chronic or unspecified gastrojejunal ulcer, with hemorrhage, with obstruction',\n",
       " 129: 'other specified disorders of eye and adnexa',\n",
       " 130: 'phlebitis and thrombophlebitis of lower extremities, unspecified',\n",
       " 131: 'contusion of lung with open wound into thorax',\n",
       " 132: 'encephalitis and encephalomyelitis following immunization procedures',\n",
       " 133: 'removal of lead(s) [electrode] without replacement',\n",
       " 134: 'other specified disorders of liver',\n",
       " 135: 'superficial injury of eyelids and periocular area',\n",
       " 136: 'transverse deficiency of upper limb',\n",
       " 137: 'peritoneal dialysis',\n",
       " 138: 'double internal mammary-coronary artery bypass',\n",
       " 139: 'other tracheostomy complications',\n",
       " 140: 'repair of current obstetric laceration of corpus uteri',\n",
       " 141: 'mobitz (type) ii atrioventricular block',\n",
       " 142: 'supervision of high-risk pregnancy with history of infertility',\n",
       " 143: 'osteitis deformans without mention of bone tumor',\n",
       " 144: 'other specified infestations',\n",
       " 145: 'endoscopy of small intestine through artificial stoma',\n",
       " 146: 'activities involving american flag or touch football',\n",
       " 147: 'ileostomy, not otherwise specified',\n",
       " 148: 'closed fracture of one rib',\n",
       " 149: 'vaginal biopsy',\n",
       " 150: 'mechanical complication due to graft of other tissue, not elsewhere classified',\n",
       " 151: 'chondritis of pinna',\n",
       " 152: 'bacterial enteritis, unspecified',\n",
       " 153: 'umbilical hernia with gangrene',\n",
       " 154: 'rectal packing',\n",
       " 155: 'respiratory arrest',\n",
       " 156: 'closed posterior dislocation of elbow',\n",
       " 157: 'closed fracture of vault of skull with subarachnoid, subdural, and extradural hemorrhage, with brief [less than one hour] loss of consciousness',\n",
       " 158: 'open wound of hand except finger(s) alone, complicated',\n",
       " 159: 'systemic lupus erythematosus',\n",
       " 160: 'suture of laceration of small intestine, except duodenum',\n",
       " 161: 'unspecified sinusitis (chronic)',\n",
       " 162: 'herpetic septicemia',\n",
       " 163: 'carrier or suspected carrier of other gastrointestinal pathogens',\n",
       " 164: 'intracranial injury of other and unspecified nature without mention of open intracranial wound, with loss of consciousness of unspecified duration',\n",
       " 165: 'acute kidney failure with other specified pathological lesion in kidney',\n",
       " 166: 'assault by striking by blunt or thrown object',\n",
       " 167: 'portal vein thrombosis',\n",
       " 168: 'heart valve replaced by other means',\n",
       " 169: 'computer assisted surgery with fluoroscopy',\n",
       " 170: 'endoscopic retrograde cholangiography [erc]',\n",
       " 171: 'suture of laceration of lip',\n",
       " 172: 'infusion of immunosuppressive antibody therapy',\n",
       " 173: 'other specified myoneural disorders',\n",
       " 174: 'visceral herpes simplex',\n",
       " 175: 'unspecified disorder of joint, site unspecified',\n",
       " 176: 'other complications of obstetrical surgical wounds, postpartum condition or complication',\n",
       " 177: 'injury due to legal intervention by other specified means',\n",
       " 178: 'atrial flutter',\n",
       " 179: 'overweight',\n",
       " 180: 'poisoning by expectorants',\n",
       " 181: 'perineal prostatectomy',\n",
       " 182: 'other repair of testis',\n",
       " 183: 'chronic osteomyelitis, pelvic region and thigh',\n",
       " 184: 'closed fracture of mandible, symphysis of body',\n",
       " 185: 'control of epistaxis by posterior (and anterior) packing',\n",
       " 186: 'other diuretics causing adverse effects in therapeutic use',\n",
       " 187: 'other headache syndromes',\n",
       " 188: 'open excision or destruction of other lesion or tissue of bladder',\n",
       " 189: 'aftercare for healing traumatic fracture of vertebrae',\n",
       " 190: 'application of other cast',\n",
       " 191: 'pyogenic arthritis, other specified sites',\n",
       " 192: 'application of external fixator device, tarsals and metatarsals',\n",
       " 193: 'dilation of anal sphincter',\n",
       " 194: 'other specified infectious and parasitic diseases of mother, delivered, with or without mention of antepartum condition',\n",
       " 195: 'phlebitis and thrombophlebitis of unspecified site',\n",
       " 196: 'left-sided ulcerative (chronic) colitis',\n",
       " 197: 'intussusception',\n",
       " 198: 'echinococcosis, unspecified, of liver',\n",
       " 199: 'chronic pain syndrome',\n",
       " 200: 'closed fracture of mandible, coronoid process',\n",
       " 201: 'chronic viral hepatitis b without mention of hepatic coma without mention of hepatitis delta',\n",
       " 202: 'removal of dental prosthesis',\n",
       " 203: 'surgical operation with formation of external stoma causing abnormal patient reaction, or later complication, without mention of misadventure at time of operation',\n",
       " 204: 'meningitis in other bacterial diseases classified elsewhere',\n",
       " 205: 'bimalleolar fracture, open',\n",
       " 206: 'functional disturbances following cardiac surgery',\n",
       " 207: 'hypersomnia with sleep apnea, unspecified',\n",
       " 208: 'other closed skull fracture with subarachnoid, subdural, and extradural hemorrhage, with loss of consciousness of unspecified duration',\n",
       " 209: 'suture of laceration of breast',\n",
       " 210: 'dyskinesia of esophagus',\n",
       " 211: 'transabdominal endoscopy of large intestine',\n",
       " 212: 'late effects of cerebrovascular disease, cognitive deficits',\n",
       " 213: 'aseptic necrosis of head and neck of femur',\n",
       " 214: 'endometriosis of pelvic peritoneum',\n",
       " 215: 'blastomycosis',\n",
       " 216: 'dissection of aorta, thoracic',\n",
       " 217: 'abdominopelvic amputation',\n",
       " 218: 'cardiotomy',\n",
       " 219: 'acute mastoiditis without complications',\n",
       " 220: 'personal history of malignant neoplasm of gastrointestinal tract, unspecified',\n",
       " 221: 'toxic multinodular goiter with mention of thyrotoxic crisis or storm',\n",
       " 222: 'family history of leukemia',\n",
       " 223: 'other pancreatotomy',\n",
       " 224: 'other tenotomy',\n",
       " 225: 'pyogenic arthritis, shoulder region',\n",
       " 226: 'other open fracture of lower end of femur',\n",
       " 227: 'encounter for planned post-operative wound closure',\n",
       " 228: \"kaposi's sarcoma, lung\",\n",
       " 229: 'peritoneal adhesions (postoperative) (postinfection)',\n",
       " 230: 'scoliosis associated with other conditions',\n",
       " 231: 'proctotomy',\n",
       " 232: 'klippel-feil syndrome',\n",
       " 233: 'cardiac tamponade',\n",
       " 234: 'mechanical complication due to cardiac pacemaker (electrode)',\n",
       " 235: 'other specified episodic mood disorder',\n",
       " 236: 'personal history of allergy to sulfonamides',\n",
       " 237: 'personal history of sudden cardiac arrest',\n",
       " 238: 'open fracture of ilium',\n",
       " 239: 'pulmonary scan',\n",
       " 240: 'lysis of cortical adhesions',\n",
       " 241: 'diabetes with renal manifestations, type ii or unspecified type, uncontrolled',\n",
       " 242: 'removal of skull tongs or halo traction device',\n",
       " 243: 'other diagnostic procedures on heart and pericardium',\n",
       " 244: 'cellulitis and abscess of neck',\n",
       " 245: 'noncompliance with renal dialysis',\n",
       " 246: 'carcinoma in situ of lip, oral cavity, and pharynx',\n",
       " 247: 'open wound of vagina, complicated',\n",
       " 248: 'gastric ulcer, unspecified as acute or chronic, without mention of hemorrhage or perforation, with obstruction',\n",
       " 249: 'secondary and unspecified malignant neoplasm of lymph nodes of head, face, and neck',\n",
       " 250: 'linear repair of laceration of eyelid or eyebrow',\n",
       " 251: 'malignant neoplasm of colon, unspecified site',\n",
       " 252: 'other specified viral exanthemata',\n",
       " 253: 'complete rupture of rotator cuff',\n",
       " 254: 'other operations on carotid body, carotid sinus and other vascular bodies',\n",
       " 255: 'deviated nasal septum',\n",
       " 256: 'ligation and stripping of varicose veins, abdominal veins',\n",
       " 257: 'cortex (cerebral) contusion without mention of open intracranial wound, with loss of consciousness of unspecified duration',\n",
       " 258: 'benign neoplasm of stomach',\n",
       " 259: 'acute sinusitis, unspecified',\n",
       " 260: 'other digestive system complications',\n",
       " 261: 'intra-operative neurophysiologic monitoring',\n",
       " 262: 'septicemia due to hemophilus influenzae [h. influenzae]',\n",
       " 263: 'other skin traction of limbs',\n",
       " 264: 'venous catheterization, not elsewhere classified',\n",
       " 265: 'closure of fistula of larynx',\n",
       " 266: 'splenomegaly',\n",
       " 267: 'removal of other device from thorax',\n",
       " 268: 'injury to other intra-abdominal organs without mention of open wound into cavity, adrenal gland',\n",
       " 269: 'fitting and adjustment of extracorporeal dialysis catheter',\n",
       " 270: 'pneumonia due to streptococcus, group b',\n",
       " 271: 'other intrathoracic vascular shunt or bypass',\n",
       " 272: 'closed fracture of base of skull with cerebral laceration and contusion, with prolonged [more than 24 hours] loss of consciousness and return to pre-existing conscious level',\n",
       " 273: 'other cysts of jaws',\n",
       " 274: 'application or administration of an adhesion barrier substance',\n",
       " 275: 'toxic effect of hydrocyanic acid and cyanides',\n",
       " 276: 'accidents caused by hypodermic needle',\n",
       " 277: 'internal drainage of pancreatic cyst',\n",
       " 278: 'disorganized type schizophrenia, chronic',\n",
       " 279: 'pedicle graft to breast',\n",
       " 280: 'infection and inflammatory reaction due to nervous system device, implant, and graft',\n",
       " 281: 'acute osteomyelitis, hand',\n",
       " 282: 'injury to liver without mention of open wound into cavity, laceration, moderate',\n",
       " 283: 'malignant neoplasm of jejunum',\n",
       " 284: 'benign neoplasm of ovary',\n",
       " 285: 'posterior dislocation of tibia, proximal end, closed',\n",
       " 286: 'other complications due to other internal orthopedic device, implant, and graft',\n",
       " 287: 'other operations on supporting structures of uterus',\n",
       " 288: 'uterine artery embolization [uae] without coils',\n",
       " 289: 'other operations on trachea',\n",
       " 290: 'unspecified disorder of gallbladder',\n",
       " 291: 'late effects of cerebrovascular disease, monoplegia of upper limb affecting unspecified side',\n",
       " 292: 'malignant neoplasm of liver, primary',\n",
       " 293: 'gastrostomy complication, unspecified',\n",
       " 294: 'removal of external immobilization device',\n",
       " 295: 'endometriosis, site unspecified',\n",
       " 296: 'dementia, unspecified, without behavioral disturbance',\n",
       " 297: 'activities involving basketball',\n",
       " 298: 'revision of hip replacement, not otherwise specified',\n",
       " 299: 'eye globe replaced by other means',\n",
       " 300: 'chronic gastric ulcer without mention of hemorrhage or perforation, without mention of obstruction',\n",
       " 301: 'other specified viral warts',\n",
       " 302: 'malignant neoplasm of temporal lobe',\n",
       " 303: 'open wound of multiple sites of shoulder and upper arm, with tendon involvement',\n",
       " 304: 'aseptic necrosis of bone, jaw',\n",
       " 305: 'other excision of soft tissue',\n",
       " 306: 'poisoning by penicillins',\n",
       " 307: 'need for prophylactic vaccination and inoculation against tetanus-diphtheria [td] (dt)',\n",
       " 308: 'other incision with drainage of skin and subcutaneous tissue',\n",
       " 309: 'chronic lymphoid leukemia, in relapse',\n",
       " 310: 'antiasthmatics causing adverse effects in therapeutic use',\n",
       " 311: 'personal history of methicillin resistant staphylococcus aureus',\n",
       " 312: 'open fracture of navicular [scaphoid] bone of wrist',\n",
       " 313: 'hereditary sensory neuropathy',\n",
       " 314: 'malignant neoplasm of occipital lobe',\n",
       " 315: 'family history of sudden cardiac death (scd)',\n",
       " 316: 'insertion or replacement of (cement) spacer',\n",
       " 317: 'stiffness of joint, not elsewhere classified, other specified sites',\n",
       " 318: 'incision of vessel, other thoracic vessels',\n",
       " 319: 'other excision of bronchus',\n",
       " 320: 'impulsiveness',\n",
       " 321: 'biopsy of bone, other bones',\n",
       " 322: 'other motor vehicle traffic accident involving collision with motor vehicle injuring passenger on motorcycle',\n",
       " 323: 'fiber-optic bronchoscopy',\n",
       " 324: 'other specified disorders of pancreatic internal secretion',\n",
       " 325: 'biopsy of penis',\n",
       " 326: 'other respiratory abnormalities',\n",
       " 327: 'abnormal function study of brain and central nervous system, unspecified',\n",
       " 328: 'squamous cell carcinoma of skin of other and unspecified parts of face',\n",
       " 329: 'closed [percutaneous] [needle] biopsy of thyroid gland',\n",
       " 330: 'other and unspecified cerebral laceration and contusion, without mention of open intracranial wound, with concussion, unspecified',\n",
       " 331: 'benign neoplasm of skin of trunk, except scrotum',\n",
       " 332: 'conversion disorder',\n",
       " 333: 'selective iga immunodeficiency',\n",
       " 334: 'mucositis (ulcerative) due to antineoplastic therapy',\n",
       " 335: 'onychia and paronychia of finger',\n",
       " 336: 'closed fracture of unspecified part of humerus',\n",
       " 337: 'other orthopedic aftercare',\n",
       " 338: 'obstetric tamponade of uterus or vagina',\n",
       " 339: 'unspecified hemorrhoids without mention of complication',\n",
       " 340: 'injury to diaphragm, without mention of open wound into cavity',\n",
       " 341: 'benign neoplasm of parathyroid gland',\n",
       " 342: 'accidental poisoning by agents primarily affecting skin and mucous membrane, ophthalmological, otorhinolaryngological, and dental drugs',\n",
       " 343: 'macular degeneration (senile), unspecified',\n",
       " 344: 'human papillomavirus in conditions classified elsewhere and of unspecified site',\n",
       " 345: 'transurethral removal of obstruction from ureter and renal pelvis',\n",
       " 346: 'refusion of lumbar and lumbosacral spine, anterior column, anterior technique',\n",
       " 347: 'neoplasm of uncertain behavior of bone and articular cartilage',\n",
       " 348: 'other specified anomalies of genital organs',\n",
       " 349: 'injury to iliac artery',\n",
       " 350: 'cricopharyngeal myotomy',\n",
       " 351: 'vagotomy, not otherwise specified',\n",
       " 352: 'frontal sinusectomy',\n",
       " 353: 'other computerized axial tomography',\n",
       " 354: 'open biopsy of liver',\n",
       " 355: 'malignant neoplasm of posterior wall of urinary bladder',\n",
       " 356: 'open reduction of fracture without internal fixation, tarsals and metatarsals',\n",
       " 357: 'late effects of accidental fall',\n",
       " 358: 'peripheral vascular complications, not elsewhere classified',\n",
       " 359: 'traumatic arthropathy, lower leg',\n",
       " 360: 'reflex sympathetic dystrophy, unspecified',\n",
       " 361: 'delayed suture of other tendon of hand',\n",
       " 362: 'injury due to legal intervention by unspecified means',\n",
       " 363: 'myalgia and myositis, unspecified',\n",
       " 364: 'blisters, epidermal loss [second degree] of scalp [any part]',\n",
       " 365: 'benign neoplasm of long bones of lower limb',\n",
       " 366: 'chondrodystrophy',\n",
       " 367: 'conductive hearing loss, middle ear',\n",
       " 368: 'aftercare for healing traumatic fracture of lower arm',\n",
       " 369: 'chronic or unspecified peptic ulcer of unspecified site with hemorrhage, with obstruction',\n",
       " 370: 'visual field defect, unspecified',\n",
       " 371: 'leukemic reticuloendotheliosis, intra-abdominal lymph nodes',\n",
       " 372: 'aftercare for healing pathologic fracture of lower arm',\n",
       " 373: 'other specified counseling',\n",
       " 374: 'diplegia of upper limbs',\n",
       " 375: 'late effect of injury to blood vessel of head, neck, and extremities',\n",
       " 376: 'hepatotomy',\n",
       " 377: 'antirheumatics [antiphlogistics] causing adverse effects in therapeutic use',\n",
       " 378: 'ocular laceration with prolapse or exposure of intraocular tissue',\n",
       " 379: \"hodgkin's disease, nodular sclerosis, lymph nodes of multiple sites\",\n",
       " 380: 'acquired absence of hip joint',\n",
       " 381: 'major depressive affective disorder, single episode, unspecified',\n",
       " 382: 'acute and subacute iridocyclitis, unspecified',\n",
       " 383: 'percutaneous ablation of lung lesion or tissue',\n",
       " 384: 'chronic fatigue syndrome',\n",
       " 385: 'closed reduction of nasal fracture',\n",
       " 386: 'fall from (nonmotorized) scooter',\n",
       " 387: 'biopsy of spinal cord or spinal meninges',\n",
       " 388: 'other surgical occlusion of vessels, thoracic vessels',\n",
       " 389: 'otorrhea, unspecified',\n",
       " 390: 'injury to other and multiple intra-abdominal organs without mention of open wound into cavity',\n",
       " 391: 'other intrathoracic esophagoenterostomy',\n",
       " 392: 'chronic and other pulmonary manifestations due to radiation',\n",
       " 393: 'infected hydrocele',\n",
       " 394: 'other forms of migraine, without mention of intractable migraine without mention of status migrainosus',\n",
       " 395: 'abdominal pain, periumbilic',\n",
       " 396: 'benign neoplasm of mediastinum',\n",
       " 397: 'esophageal manometry',\n",
       " 398: 'myoglobinuria',\n",
       " 399: 'major depressive affective disorder, recurrent episode, moderate',\n",
       " 400: 'closed fracture of vault of skull with other and unspecified intracranial hemorrhage, with no loss of consciousness',\n",
       " 401: 'developmental odontogenic cysts',\n",
       " 402: 'injury to hepatic artery',\n",
       " 403: 'cerebrovascular disorders in the puerperium, delivered, with or without mention of antepartum condition',\n",
       " 404: 'malignant neoplasm of other specified sites of uterine adnexa',\n",
       " 405: 'intra-abdominal manipulation of large intestine',\n",
       " 406: 'laceration of heart with penetration of heart chambers with open wound into thorax',\n",
       " 407: 'sciatica',\n",
       " 408: 'adult emotional/psychological abuse',\n",
       " 409: 'closed fracture of t7-t12 level with other specified spinal cord injury',\n",
       " 410: 'malignant neoplasm of other specified sites of female genital organs',\n",
       " 411: 'malignant neoplasm of retroperitoneum',\n",
       " 412: 'control of (postoperative) hemorrhage of anus',\n",
       " 413: 'other cholecystotomy',\n",
       " 414: 'pharyngeal biopsy',\n",
       " 415: 'injection of steroid',\n",
       " 416: 'other specified injury caused by animal',\n",
       " 417: 'diphtheria, unspecified',\n",
       " 418: 'therapeutic leukopheresis',\n",
       " 419: 'contracture of palmar fascia',\n",
       " 420: 'pain in or around eye',\n",
       " 421: 'submucous leiomyoma of uterus',\n",
       " 422: 'other and unspecified mitral valve diseases',\n",
       " 423: 'endometriosis of fallopian tube',\n",
       " 424: 'history of physical abuse',\n",
       " 425: 'cyst of kidney, acquired',\n",
       " 426: 'debridement of open fracture site, radius and ulna',\n",
       " 427: 'absence of menstruation',\n",
       " 428: 'dermatophytosis of foot',\n",
       " 429: 'other and unspecified cerebral laceration and contusion, without mention of open intracranial wound, with prolonged [more than 24 hours] loss of consciousness without return to pre-existing conscious level',\n",
       " 430: 'revision of pedicle or flap graft',\n",
       " 431: 'poisoning by cardiotonic glycosides and drugs of similar action',\n",
       " 432: 'congenital stenosis of aortic valve',\n",
       " 433: 'pericardiocentesis',\n",
       " 434: 'sudden visual loss',\n",
       " 435: 'threatened premature labor, antepartum condition or complication',\n",
       " 436: 'other pull-through resection of rectum',\n",
       " 437: 'contracture of tendon (sheath)',\n",
       " 438: 'poisoning by cardiac rhythm regulators',\n",
       " 439: 'toxic myelitis',\n",
       " 440: 'other specified infectious and parasitic diseases of mother, antepartum condition or complication',\n",
       " 441: 'contusion of multiple sites of trunk',\n",
       " 442: 'tracheoesophageal fistula, esophageal atresia and stenosis',\n",
       " 443: 'other allied disorders of spine',\n",
       " 444: 'computerized axial tomography of head',\n",
       " 445: 'pemphigoid',\n",
       " 446: 'pyogenic arthritis, pelvic region and thigh',\n",
       " 447: 'hip bearing surface, metal-on-metal',\n",
       " 448: 'personal history of malignant neoplasm of other parts of uterus',\n",
       " 449: 'suicide and self-inflicted injury by unspecified means',\n",
       " 450: 'unspecified cerebrovascular disease',\n",
       " 451: 'accidental poisoning by psychostimulants',\n",
       " 452: 'acute hepatitis c without mention of hepatic coma',\n",
       " 453: 'malignant renovascular hypertension',\n",
       " 454: 'measurement of systemic arterial blood gases',\n",
       " 455: 'puncture of nasal sinus for aspiration or lavage',\n",
       " 456: 'forearm, wrist, or hand reattachment',\n",
       " 457: 'other bulbus cordis anomalies and anomalies of cardiac septal closure',\n",
       " 458: 'closed reduction of fracture with internal fixation, tibia and fibula',\n",
       " 459: 'flexible sigmoidoscopy',\n",
       " 460: 'unspecified acquired hypothyroidism',\n",
       " 461: 'open reduction of dislocation of knee',\n",
       " 462: 'other second degree atrioventricular block',\n",
       " 463: 'peritoneal lavage',\n",
       " 464: 'toxic effect of unspecified substance, chiefly nonmedicinal as to source',\n",
       " 465: 'late effects of injury, undetermined whether accidentally or purposely inflicted',\n",
       " 466: \"down's syndrome\",\n",
       " 467: 'total ostectomy, other bones',\n",
       " 468: 'kyphosis, postlaminectomy',\n",
       " 469: 'insertion of bone void filler',\n",
       " 470: 'unspecified anomaly of gallbladder, bile ducts, and liver',\n",
       " 471: 'other specified general medical examinations',\n",
       " 472: 'polymyalgia rheumatica',\n",
       " 473: 'accidental fall from wheelchair',\n",
       " 474: 'duodenitis, with hemorrhage',\n",
       " 475: 'colostomy and enterostomy complication, unspecified',\n",
       " 476: 'proximal pancreatectomy',\n",
       " 477: 'personal history of peptic ulcer disease',\n",
       " 478: 'other intrathoracic anastomosis of esophagus',\n",
       " 479: 'unspecified keratitis',\n",
       " 480: 'hypersplenism',\n",
       " 481: 'other removal of remaining ovary',\n",
       " 482: 'carrier or suspected carrier of cholera',\n",
       " 483: 'subdural hemorrhage',\n",
       " 484: 'knee joint replacement',\n",
       " 485: 'endoscopic dilation of pancreatic duct',\n",
       " 486: 'tuberculous peritonitis, tubercle bacilli not found by bacteriological examination, but tuberculosis confirmed histologically',\n",
       " 487: 'repair of brain',\n",
       " 488: 'other specified idiopathic peripheral neuropathy',\n",
       " 489: 'other antihypertensive agents causing adverse effects in therapeutic use',\n",
       " 490: 'manual reduction of rectal prolapse',\n",
       " 491: 'other suture of flexor tendon of hand',\n",
       " 492: 'pain in limb',\n",
       " 493: 'other lesion of median nerve',\n",
       " 494: 'non-healing surgical wound',\n",
       " 495: 'partial anomalous pulmonary venous connection',\n",
       " 496: 'insertion of non-drug-eluting coronary artery stent(s)',\n",
       " 497: 'occlusion and stenosis of other specified precerebral artery without mention of cerebral infarction',\n",
       " 498: 'spontaneous abortion, complicated by damage to pelvic organs or tissues, incomplete',\n",
       " 499: 'sixth or abducens nerve palsy',\n",
       " 500: 'traumatic compartment syndrome of abdomen',\n",
       " 501: 'alcohol rehabilitation and detoxification',\n",
       " 502: 'ileal conduitogram',\n",
       " 503: 'other diseases of mediastinum, not elsewhere classified',\n",
       " 504: 'acute idiopathic pericarditis',\n",
       " 505: 'hypertonicity of bladder',\n",
       " 506: 'osteoarthrosis, unspecified whether generalized or localized, hand',\n",
       " 507: 'unspecified site injury',\n",
       " 508: 'urethral abscess',\n",
       " 509: 'pneumonitis due to inhalation of oils and essences',\n",
       " 510: 'bilious emesis',\n",
       " 511: 'dysplasia of prostate',\n",
       " 512: 'abdominal aortic ectasia',\n",
       " 513: 'poisoning by cocaine',\n",
       " 514: 'injury to pulmonary vessel(s), unspecified',\n",
       " 515: 'foreign body accidentally left during a procedure',\n",
       " 516: 'sprain of tibiofibular (ligament), distal of ankle',\n",
       " 517: 'removal of implanted devices from bone, radius and ulna',\n",
       " 518: 'endovascular implantation of other graft in abdominal aorta',\n",
       " 519: 'noncollision motor vehicle traffic accident while boarding or alighting injuring other specified person',\n",
       " 520: 'dysthymic disorder',\n",
       " 521: 'implantation of chemotherapeutic agent',\n",
       " 522: 'other abnormalities in shape or position of gravid uterus and of neighboring structures, delivered, with or without mention of antepartum condition',\n",
       " 523: 'other plastic operations on tendon',\n",
       " 524: 'other parathyroidectomy',\n",
       " 525: 'mechanical failure of instrument or apparatus during other specified procedures',\n",
       " 526: 'wrist joint replacement',\n",
       " 527: 'cytomegaloviral disease',\n",
       " 528: 'sickle-cell disease, unspecified',\n",
       " 529: 'other excision or destruction of lesion or tissue of larynx',\n",
       " 530: 'kyphosis due to radiation',\n",
       " 531: 'cortex (cerebral) contusion without mention of open intracranial wound, with prolonged [more than 24 hours] loss of consciousness without return to pre-existing conscious level',\n",
       " 532: 'necrosis of artery',\n",
       " 533: 'prophylactic breast removal',\n",
       " 534: 'long-term (current) use of antiplatelet/antithrombotic',\n",
       " 535: 'unilateral extended simple mastectomy',\n",
       " 536: 'application of external fixator device, other bones',\n",
       " 537: 'need for prophylactic vaccination and inoculation against diphtheria-tetanus-pertussis, combined [dtp] [dtap]',\n",
       " 538: 'ligation of gastric varices',\n",
       " 539: 'open biopsy of gallbladder or bile ducts',\n",
       " 540: 'nephrotic syndrome with lesion of membranous glomerulonephritis',\n",
       " 541: 'concussion with moderate loss of consciousness',\n",
       " 542: 'closed reduction of fracture without internal fixation, femur',\n",
       " 543: 'hip bearing surface, metal-on-polyethylene',\n",
       " 544: 'acute lymphoid leukemia, in remission',\n",
       " 545: 'abrasion or friction burn of foot and toe(s), infected',\n",
       " 546: 'open fracture of radius with ulna, upper end (any part)',\n",
       " 547: 'ventricular fibrillation',\n",
       " 548: 'atrial fibrillation',\n",
       " 549: 'closure of thoracostomy',\n",
       " 550: 'unspecified deformity of finger',\n",
       " 551: 'iatrogenic pulmonary embolism and infarction',\n",
       " 552: 'myotonia congenita',\n",
       " 553: 'ileostomy status',\n",
       " 554: 'aortic aneurysm of unspecified site without mention of rupture',\n",
       " 555: 'acute myocardial infarction of unspecified site, initial episode of care',\n",
       " 556: 'pneumonia in aspergillosis',\n",
       " 557: 'homonymous bilateral field defects',\n",
       " 558: 'secondary malignant neoplasm of mediastinum',\n",
       " 559: 'secondary diabetes mellitus with other specified manifestations, not stated as uncontrolled, or unspecified',\n",
       " 560: 'open dislocation of midcarpal (joint)',\n",
       " 561: 'acute interstitial pneumonitis',\n",
       " 562: 'other specified disorders of female genital organs',\n",
       " 563: 'injury to unspecified blood vessel of abdomen and pelvis',\n",
       " 564: 'malignant neoplasm of long bones of lower limb',\n",
       " 565: 'elevated c-reactive protein (crp)',\n",
       " 566: 'open wound of other and unspecified parts of trunk, complicated',\n",
       " 567: 'benign hypertensive heart disease with heart failure',\n",
       " 568: 'transplant from cadaver',\n",
       " 569: 'other local excision or destruction of lesion of joint, ankle',\n",
       " 570: 'other complications due to nervous system device, implant, and graft',\n",
       " 571: 'cellulitis and abscess of toe, unspecified',\n",
       " 572: 'injury to pancreas, multiple and unspecified sites, without mention of open wound into cavity',\n",
       " 573: 'acute alcoholic intoxication in alcoholism, in remission',\n",
       " 574: 'foreign body in intestine and colon',\n",
       " 575: 'leukocytosis, unspecified',\n",
       " 576: 'other benign neoplasm of connective and other soft tissue of abdomen',\n",
       " 577: 'open wound of finger(s), without mention of complication',\n",
       " 578: 'revision of stoma of small intestine',\n",
       " 579: 'catatonic type schizophrenia, chronic with acute exacerbation',\n",
       " 580: 'other and unspecified water transport accident injuring water skier',\n",
       " 581: 'personal history of antineoplastic chemotherapy',\n",
       " 582: 'nonspecific abnormal results of function study of liver',\n",
       " 583: 'injury to other gastrointestinal sites, without mention of open wound into cavity',\n",
       " 584: 'herpes simplex with other specified complications',\n",
       " 585: 'other diagnostic procedures on rectum, rectosigmoid and perirectal tissue',\n",
       " 586: 'closure of laceration of lung',\n",
       " 587: 'assault by other and unspecified firearm',\n",
       " 588: 'open reduction of dislocation of hip',\n",
       " 589: 'diabetes with other coma, type i [juvenile type], not stated as uncontrolled',\n",
       " 590: 'equinus deformity of foot, acquired',\n",
       " 591: 'severe pre-eclampsia, delivered, with or without mention of antepartum condition',\n",
       " 592: 'injury to pancreas, multiple and unspecified sites, with open wound into cavity',\n",
       " 593: 'obstetrical blood-clot embolism, antepartum condition or complication',\n",
       " 594: 'chronic combined systolic and diastolic heart failure',\n",
       " 595: 'tobacco use disorder',\n",
       " 596: 'dementia in conditions classified elsewhere with behavioral disturbance',\n",
       " 597: 'contusion of multiple sites of shoulder and upper arm',\n",
       " 598: 'endoscopic excision or destruction of lesion or tissue of bronchus',\n",
       " 599: 'unspecified disorder of pancreatic internal secretion',\n",
       " 600: 'nontoxic uninodular goiter',\n",
       " 601: 'body mass index 45.0-49.9, adult',\n",
       " 602: 'spina bifida occulta',\n",
       " 603: 'other frontotemporal dementia',\n",
       " 604: 'other motor vehicle nontraffic accident involving collision with stationary object injuring motorcyclist',\n",
       " 605: 'vaginitis and vulvovaginitis, unspecified',\n",
       " 606: 'other enthesopathy of ankle and tarsus',\n",
       " 607: 'burn of unspecified degree of back [any part]',\n",
       " 608: 'long-term (current) use of aspirin',\n",
       " 609: 'extrinsic asthma with status asthmaticus',\n",
       " 610: 'conditions due to anomaly of unspecified chromosome',\n",
       " 611: 'closed reduction of fracture with internal fixation, femur',\n",
       " 612: 'acute on chronic graft-versus-host disease',\n",
       " 613: 'hallucinogen abuse, continuous',\n",
       " 614: 'subdural hemorrhage following injury without mention of open intracranial wound, with moderate [1-24 hours] loss of consciousness',\n",
       " 615: 'closed fracture of first cervical vertebra',\n",
       " 616: 'other activity involving ice and snow',\n",
       " 617: 'maternal pyrexia during labor, unspecified, delivered, with or without mention of antepartum condition',\n",
       " 618: 'reflex sympathetic dystrophy of the lower limb',\n",
       " 619: 'benign neoplasm of pancreas, except islets of langerhans',\n",
       " 620: 'senile dementia with delirium',\n",
       " 621: 'right bundle branch block',\n",
       " 622: 'contusion of ankle',\n",
       " 623: 'nontraumatic compartment syndrome of upper extremity',\n",
       " 624: 'angiodysplasia of intestine (without mention of hemorrhage)',\n",
       " 625: 'excision of lesion of adrenal gland',\n",
       " 626: 'large cell lymphoma, lymph nodes of head, face, and neck',\n",
       " 627: 'infusion of drotrecogin alfa (activated)',\n",
       " 628: 'anomalies of other specified sites of peripheral vascular system',\n",
       " 629: 'acquired deformity of chest and rib',\n",
       " 630: 'depressive type psychosis',\n",
       " 631: 'closed [percutaneous] [needle] biopsy of adrenal gland',\n",
       " 632: 'creation of cutaneoperitoneal fistula',\n",
       " 633: 'other motor vehicle nontraffic accident of other and unspecified nature injuring driver of motor vehicle other than motorcycle',\n",
       " 634: 'other antipsychotics, neuroleptics, and major tranquilizers causing adverse effects in therapeutic use',\n",
       " 635: 'hemarthrosis, upper arm',\n",
       " 636: 'bronchitis and pneumonitis due to fumes and vapors',\n",
       " 637: 'other abnormalities in shape or position of gravid uterus and of neighboring structures, postpartum condition or complication',\n",
       " 638: 'aspiration biopsy of ovary',\n",
       " 639: 'chronic myeloid leukemia, in relapse',\n",
       " 640: 'smooth muscle relaxants causing adverse effects in therapeutic use',\n",
       " 641: 'insertion of totally implantable vascular access device [vad]',\n",
       " 642: 'c5-c7 level with unspecified spinal cord injury',\n",
       " 643: 'open fracture of eight or more ribs',\n",
       " 644: 'other specified conditions influencing health status',\n",
       " 645: 'multiple sclerosis',\n",
       " 646: 'other partial salpingectomy',\n",
       " 647: 'ascorbic acid deficiency',\n",
       " 648: 'acute myocardial infarction of inferolateral wall, initial episode of care',\n",
       " 649: 'contusion of finger',\n",
       " 650: 'open biopsy of thyroid gland',\n",
       " 651: 'pedal cycle accident injuring pedal cyclist',\n",
       " 652: 'psychotic disorder with hallucinations in conditions classified elsewhere',\n",
       " 653: 'other tenonectomy of hand',\n",
       " 654: 'other nonoperative replacements',\n",
       " 655: 'acute gastrojejunal ulcer with perforation, without mention of obstruction',\n",
       " 656: 'mitral valve disorders',\n",
       " 657: 'frontal lobe syndrome',\n",
       " 658: 'other specified anomalies of ureter',\n",
       " 659: 'diaphragmatic hernia with obstruction',\n",
       " 660: 'secondary and unspecified malignant neoplasm of intra-abdominal lymph nodes',\n",
       " 661: 'adjustment disorder with mixed anxiety and depressed mood',\n",
       " 662: 'renal agenesis and dysgenesis',\n",
       " 663: 'mixed incontinence (male) (female)',\n",
       " 664: 'other complications due to other internal prosthetic device, implant, and graft',\n",
       " 665: 'inadequate housing',\n",
       " 666: 'removal of catheter(s) from cranial cavity or tissue',\n",
       " 667: 'malignant melanoma of skin of lower limb, including hip',\n",
       " 668: 'ulcerative (chronic) proctosigmoiditis',\n",
       " 669: 'retained glass fragments',\n",
       " 670: 'inguinal hernia, without mention of obstruction or gangrene, bilateral (not specified as recurrent)',\n",
       " 671: 'other suture of abdominal wall',\n",
       " 672: 'nausea with vomiting',\n",
       " 673: 'aftercare following organ transplant',\n",
       " 674: 'revision of arteriovenous shunt for renal dialysis',\n",
       " 675: 'other disorders of iron metabolism',\n",
       " 676: 'malignant neoplasm of anterior wall of urinary bladder',\n",
       " 677: 'sickle-cell/hb-c disease with crisis',\n",
       " 678: 'other specified infantile cerebral palsy',\n",
       " 679: 'mechanical complication due to corneal graft',\n",
       " 680: 'other repair of laceration of eyelid, partial-thickness',\n",
       " 681: 'injury to other intra-abdominal organs without mention of open wound into cavity, retroperitoneum',\n",
       " 682: 'spinal stenosis, other region',\n",
       " 683: 'mammographic microcalcification',\n",
       " 684: 'other repair of vessel',\n",
       " 685: 'amphetamine and other psychostimulant dependence, continuous',\n",
       " 686: 'other tenonectomy',\n",
       " 687: 'debridement of open fracture site, phalanges of foot',\n",
       " 688: 'open wound of trachea, complicated',\n",
       " 689: 'secondary malignant neoplasm of small intestine including duodenum',\n",
       " 690: 'other total excision of thymus',\n",
       " 691: 'diabetes mellitus without mention of complication, type i [juvenile type], not stated as uncontrolled',\n",
       " 692: 'hereditary hemorrhagic telangiectasia',\n",
       " 693: 'circumcision',\n",
       " 694: 'nonspecific abnormal electrocardiogram [ecg] [ekg]',\n",
       " 695: 'tendon transfer or transplantation',\n",
       " 696: 'open robotic assisted procedure',\n",
       " 697: 'other abnormality of red blood cells',\n",
       " 698: 'vascular complications of other vessels',\n",
       " 699: 'arthrodesis of other specified joints',\n",
       " 700: 'urgency of urination',\n",
       " 701: 'disruption of wound, unspecified',\n",
       " 702: 'application of external fixator device, patella',\n",
       " 703: 'personal history of malignant neoplasm of brain',\n",
       " 704: 'presenile dementia with delusional features',\n",
       " 705: 'other anastomosis of cranial or peripheral nerve',\n",
       " 706: 'open wound of buccal mucosa, complicated',\n",
       " 707: 'polycythemia, secondary',\n",
       " 708: 'late effects of cerebrovascular disease, hemiplegia affecting unspecified side',\n",
       " 709: 'personal history of other (corrected) congenital malformations',\n",
       " 710: 'drug induced headache, not elsewhere classified',\n",
       " 711: 'giant cell arteritis',\n",
       " 712: 'benign neoplasm of bronchus and lung',\n",
       " 713: 'vascular dementia, with delusions',\n",
       " 714: 'infective otitis externa, unspecified',\n",
       " 715: 'biopsy of joint structure, shoulder',\n",
       " 716: 'closed fracture of base of skull without mention of intra cranial injury, with concussion, unspecified',\n",
       " 717: 'malignant neoplasm of other specified sites of cervix',\n",
       " 718: 'chronic venous embolism and thrombosis of deep veins of upper extremity',\n",
       " 719: 'malignant neoplasm of hard palate',\n",
       " 720: 'iodine hypothyroidism',\n",
       " 721: 'anorexia',\n",
       " 722: 'striking against or struck accidentally by furniture without subsequent fall',\n",
       " 723: 'other repair of penis',\n",
       " 724: 'hypertrophy of breast',\n",
       " 725: 'accidental puncture or laceration during a procedure, not elsewhere classified',\n",
       " 726: 'open fracture of lumbar vertebra without mention of spinal cord injury',\n",
       " 727: 'excision or destruction of lesion of nose, not otherwise specified',\n",
       " 728: 'multiple endocrine neoplasia [men] type i',\n",
       " 729: 'repair of wound of orbit',\n",
       " 730: 'abscess of prostate',\n",
       " 731: 'other open transcervical fracture of neck of femur',\n",
       " 732: 'unspecified disorder of autonomic nervous system',\n",
       " 733: 'cannabis abuse, continuous',\n",
       " 734: 'hyperplasia of prostate, unspecified, with urinary obstruction and other lower urinary symptoms (luts)',\n",
       " 735: 'sprains and strains of other specified sites of elbow and forearm',\n",
       " 736: 'open fractures involving skull or face with other bones with subarachnoid, subdural, and extradural hemorrhage, unspecified state of consciousness',\n",
       " 737: 'gastrointestinal vessel anomaly',\n",
       " 738: 'open fracture of vault of skull with other and unspecified intracranial hemorrhage, unspecified state of consciousness',\n",
       " 739: 'abdominal or pelvic swelling, mass, or lump, generalized',\n",
       " 740: 'accidental cut, puncture, perforation or hemorrhage during aspiration of fluid or tissue, puncture, and catheterization',\n",
       " 741: 'other mechanical complication of prosthetic joint implant',\n",
       " 742: 'lymphocytosis (symptomatic)',\n",
       " 743: 'orbital edema or congestion',\n",
       " 744: 'microscopic hematuria',\n",
       " 745: 'other pre-existing hypertension,complicating pregnancy, childbirth, and the puerperium, , postpartum condition or complication',\n",
       " 746: 'acquired absence of organ, other parts of urinary tract',\n",
       " 747: 'local infection due to central venous catheter',\n",
       " 748: 'iatrogenic pituitary disorders',\n",
       " 749: 'unspecified intellectual disabilities',\n",
       " 750: 'spinal subarachnoid-peritoneal shunt',\n",
       " 751: 'injury to unspecified nerve of pelvic girdle and lower limb',\n",
       " 752: 'personal history of allergy to other specified medicinal agents',\n",
       " 753: 'late effect of fracture of skull and face bones',\n",
       " 754: 'coagulation defects complicating pregnancy, childbirth, or the puerperium, delivered, with or without mention of antepartum condition',\n",
       " 755: 'febrile nonhemolytic transfusion reaction',\n",
       " 756: 'transfusion of packed cells',\n",
       " 757: 'burn [any degree] involving 50-59 percent of body surface with third degree burn, less than 10 percent or unspecified',\n",
       " 758: 'poisoning by barbiturates, undetermined whether accidentally or purposely inflicted',\n",
       " 759: 'other specified open wounds of ocular adnexa',\n",
       " 760: 'other repair of the cruciate ligaments',\n",
       " 761: 'marginal zone lymphoma, intraabdominal lymph nodes',\n",
       " 762: 'cystitis, unspecified',\n",
       " 763: 'benign neoplasm of other and unspecified parts of mouth',\n",
       " 764: 'other forms of retinal detachment',\n",
       " 765: 'other conjunctivitis',\n",
       " 766: 'intestinal infection due to other organism, not elsewhere classified',\n",
       " 767: 'felon',\n",
       " 768: 'hydantoin derivatives causing adverse effects in therapeutic use',\n",
       " 769: 'peri-prosthetic osteolysis',\n",
       " 770: 'other (abnormal) findings on radiological examination of breast',\n",
       " 771: 'laparoscopic repair of diaphragmatic hernia, abdominal approach',\n",
       " 772: 'adenovirus infection in conditions classified elsewhere and of unspecified site',\n",
       " 773: 'acute osteomyelitis, ankle and foot',\n",
       " 774: 'acute appendicitis without mention of peritonitis',\n",
       " 775: 'closed fracture of other bone of wrist',\n",
       " 776: 'injury to sigmoid colon, without mention of open wound into cavity',\n",
       " 777: 'personal history of malignant neoplasm of liver',\n",
       " 778: 'acquired absence of breast and nipple',\n",
       " 779: 'injury to kidney without mention of open wound into cavity, hematoma without rupture of capsule',\n",
       " 780: 'other dysphagia',\n",
       " 781: 'other incision of bone without division, other bones',\n",
       " 782: 'seminal vesiculitis',\n",
       " 783: 'other activity involving other sports and athletics played individually',\n",
       " 784: 'single internal mammary-coronary artery bypass',\n",
       " 785: 'phlebitis and thrombophlebitis of superficial veins of upper extremities',\n",
       " 786: 'bacteremia',\n",
       " 787: 'cerebral lipidoses',\n",
       " 788: 'suicide and self-inflicted injuries by jumping from residential premises',\n",
       " 789: 'closed fracture of base of skull with subarachnoid, subdural, and extradural hemorrhage, with prolonged [more than 24 hours] loss of consciousness, without return to pre-existing conscious level',\n",
       " 790: \"chagas' disease with heart involvement\",\n",
       " 791: 'conductive hearing loss, bilateral',\n",
       " 792: 'aggressive periodontitis, unspecified',\n",
       " 793: 'cardiac dysrhythmia, unspecified',\n",
       " 794: 'pneumococcal septicemia [streptococcus pneumoniae septicemia]',\n",
       " 795: 'extraction of deciduous tooth',\n",
       " 796: 'other hemolytic anemias due to enzyme deficiency',\n",
       " 797: 'ureteral catheterization',\n",
       " 798: 'injury to other intra-abdominal organs without mention of open wound into cavity, bile duct and gallbladder',\n",
       " 799: 'accidental poisoning by other anti-infectives',\n",
       " 800: 'disfigurements of head',\n",
       " 801: 'injury to spleen without mention of open wound into cavity, capsular tears, without major disruption of parenchyma',\n",
       " 802: 'unspecified disorder of biliary tract',\n",
       " 803: 'ehrlichiosis, unspecified',\n",
       " 804: 'heart failure, unspecified',\n",
       " 805: 'teleradiotherapy using photons',\n",
       " 806: 'infectious colitis, enteritis, and gastroenteritis',\n",
       " 807: 'vesicoureteral reflux unspecified or without reflux nephropathy',\n",
       " 808: 'closed reduction of fracture without internal fixation, tarsals and metatarsals',\n",
       " 809: 'closed fracture of orbital floor (blow-out)',\n",
       " 810: 'ligation of hemorrhoids',\n",
       " 811: 'unspecified viral infection',\n",
       " 812: 'narcissistic personality disorder',\n",
       " 813: 'application of external fixator device, ring system',\n",
       " 814: 'removal of transplanted or rejected kidney',\n",
       " 815: 'cellulitis and abscess of hand, except fingers and thumb',\n",
       " 816: 'osteoarthrosis, unspecified whether generalized or localized, forearm',\n",
       " 817: 'open fracture of shaft of metacarpal bone(s)',\n",
       " 818: 'other signs and symptoms in breast',\n",
       " 819: 'body mass index 39.0-39.9, adult',\n",
       " 820: 'letterer-siwe disease, intrathoracic lymph nodes',\n",
       " 821: 'malignant neoplasm of vagina',\n",
       " 822: 'accident due to excessive cold due to weather conditions',\n",
       " 823: 'endometriosis of uterus',\n",
       " 824: 'body mass index 26.0-26.9, adult',\n",
       " 825: 'other specified surgical operations and procedures causing abnormal patient reaction, or later complication, without mention of misadventure at time of operation',\n",
       " 826: 'other specified viral hepatitis with hepatic coma',\n",
       " 827: 'hypercalcemia',\n",
       " 828: 'other and unspecified local anesthetics causing adverse effects in therapeutic use',\n",
       " 829: 'placenta previa without hemorrhage, antepartum condition or complication',\n",
       " 830: \"huntington's chorea\",\n",
       " 831: 'toxic effect of acids',\n",
       " 832: 'unspecified immunity deficiency',\n",
       " 833: 'melanoma of skin, site unspecified',\n",
       " 834: 'poisoning by anti-parkinsonism drugs',\n",
       " 835: 're-entry operation (aorta)',\n",
       " 836: 'suture of laceration of sclera',\n",
       " 837: 'exophoria',\n",
       " 838: 'other noncollision motor vehicle traffic accident injuring motorcyclist',\n",
       " 839: 'malignant poorly differentiated neuroendocrine carcinoma, any site',\n",
       " 840: 'other specified prophylactic or treatment measure',\n",
       " 841: 'encephalocele',\n",
       " 842: 'cortex (cerebral) laceration without mention of open intracranial wound, with prolonged [more than 24 hours] loss of consciousness without return to pre-existing conscious level',\n",
       " 843: 'hip joint replacement',\n",
       " 844: 'toxic effect of other specified metals',\n",
       " 845: 'elevated sedimentation rate',\n",
       " 846: 'other repair of shoulder',\n",
       " 847: 'hemophilus influenzae [h. influenzae] infection in conditions classified elsewhere and of unspecified site',\n",
       " 848: 'total ostectomy, femur',\n",
       " 849: 'injury to celiac and mesenteric arteries, other',\n",
       " 850: 'accident caused by paintball gun',\n",
       " 851: 'excision of hemorrhoids',\n",
       " 852: 'compression of vein',\n",
       " 853: 'localization-related (focal) (partial) epilepsy and epileptic syndromes with complex partial seizures, without mention of intractable epilepsy',\n",
       " 854: 'bimalleolar fracture, closed',\n",
       " 855: 'amputation of penis',\n",
       " 856: 'other chronic cystitis',\n",
       " 857: 'pneumonitis due to inhalation of food or vomitus',\n",
       " 858: 'malignant neoplasm of connective and other soft tissue of abdomen',\n",
       " 859: 'other specified cardiac dysrhythmias',\n",
       " 860: 'body mass index 37.0-37.9, adult',\n",
       " 861: 'benign intracranial hypertension',\n",
       " 862: 'unspecified disorder of eyelid',\n",
       " 863: 'ulcer of calf',\n",
       " 864: 'injury to internal jugular vein',\n",
       " 865: 'unspecified viral hepatitis c with hepatic coma',\n",
       " 866: 'listeriosis',\n",
       " 867: 'multiple sites of spinal cord injury without evidence of spinal bone injury',\n",
       " 868: 'drug dependence of mother, delivered, with or without mention of antepartum condition',\n",
       " 869: 'repair of adrenal gland',\n",
       " 870: 'other specified hemiplegia and hemiparesis affecting nondominant side',\n",
       " 871: 'osteogenesis imperfecta',\n",
       " 872: 'other nonoperative measurements and examinations',\n",
       " 873: 'other retroperitoneal abscess',\n",
       " 874: 'cutaneous-vesicostomy',\n",
       " 875: 'chronic total occlusion of artery of the extremities',\n",
       " 876: 'cystoscopy through artificial stoma',\n",
       " 877: 'biopsy of cul-de-sac',\n",
       " 878: 'concussion with no loss of consciousness',\n",
       " 879: 'activities involving building and construction',\n",
       " 880: 'systemic arterial pressure monitoring',\n",
       " 881: 'senile nuclear sclerosis',\n",
       " 882: 'other acquired torsion dystonia',\n",
       " 883: 'allergic rhinitis, cause unspecified',\n",
       " 884: 'closed fracture of shaft of ulna (alone)',\n",
       " 885: 'bilateral paralysis of vocal cords or larynx, complete',\n",
       " 886: 'unspecified derangement of joint, ankle and foot',\n",
       " 887: 'malignant neoplasm of other and unspecified testis',\n",
       " 888: 'cerebral arteritis',\n",
       " 889: 'unspecified disease of the jaws',\n",
       " 890: 'tubal ligation status',\n",
       " 891: 'sprain of cruciate ligament of knee',\n",
       " 892: 'neoplasm of uncertain behavior of stomach, intestines, and rectum',\n",
       " 893: 'heterograft to skin',\n",
       " 894: 'pulmonary diseases due to other mycobacteria',\n",
       " 895: 'acquired partial absence of pancreas',\n",
       " 896: 'family history of malignant neoplasm of breast',\n",
       " 897: 'spontaneous abortion, complicated by delayed or excessive hemorrhage, incomplete',\n",
       " 898: 'other and unspecified cerebral laceration and contusion, without mention of open intracranial wound, unspecified state of consciousness',\n",
       " 899: 'closed fracture of base of other metacarpal bone(s)',\n",
       " 900: 'endoscopic destruction of other lesion or tissue of large intestine',\n",
       " 901: 'nonproliferative diabetic retinopathy nos',\n",
       " 902: 'secondary malignant neoplasm of skin',\n",
       " 903: 'intestinal infection due to campylobacter',\n",
       " 904: '(aorto)coronary bypass of three coronary arteries',\n",
       " 905: 'monoplegia of upper limb affecting unspecified side',\n",
       " 906: 'hypertrophy of nasal turbinates',\n",
       " 907: 'aorta-iliac-femoral bypass',\n",
       " 908: 'excision or destruction of other lesion of external ear',\n",
       " 909: 'incisional hernia without mention of obstruction or gangrene',\n",
       " 910: 'spondylosis with myelopathy, lumbar region',\n",
       " 911: 'other injury of chest wall',\n",
       " 912: 'injury by handgun, undetermined whether accidentally or purposely inflicted',\n",
       " 913: 'removal of thoracotomy tube or pleural cavity drain',\n",
       " 914: 'examination of participant in clinical trial',\n",
       " 915: 'personal history of noncompliance with medical treatment, presenting hazards to health',\n",
       " 916: 'other secondary thrombocytopenia',\n",
       " 917: 'injury to peroneal nerve',\n",
       " 918: 'other counseling',\n",
       " 919: 'injury to esophagus with open wound into cavity',\n",
       " 920: 'personal history of other specified urinary system disorders',\n",
       " 921: 'contusion of orbital tissues',\n",
       " 922: 'nodular lymphoma, unspecified site, extranodal and solid organ sites',\n",
       " 923: 'seroma complicating a procedure',\n",
       " 924: 'late effects of other transport accident',\n",
       " 925: 'prader-willi syndrome',\n",
       " 926: 'carrier or suspected carrier of other streptococcus',\n",
       " 927: 'cardiac rhythm regulators causing adverse effects in therapeutic use',\n",
       " 928: 'other and open repair of diaphragmatic hernia, with thoracic approach',\n",
       " 929: 'other diagnostic procedures on intestine, site unspecified',\n",
       " 930: 'partial retinal arterial occlusion',\n",
       " 931: 'post-traumatic seroma',\n",
       " 932: 'embolism and thrombosis of thoracic aorta',\n",
       " 933: 'local excision of lesion or tissue of bone, femur',\n",
       " 934: 'other symbolic dysfunction',\n",
       " 935: 'glaucoma associated with ocular trauma',\n",
       " 936: 'malignant neoplasm of stomach, unspecified site',\n",
       " 937: 'lipoma of intrathoracic organs',\n",
       " 938: 'biopsy of pericardium',\n",
       " 939: 'other and unspecified repair of atrial septal defect',\n",
       " 940: 'cellulitis and abscess of foot, except toes',\n",
       " 941: 'unilateral small kidney',\n",
       " 942: 'acquired absence of kidney',\n",
       " 943: 'intracranial injury of other and unspecified nature without mention of open intracranial wound, with brief [less than one hour] loss of consciousness',\n",
       " 944: 'procedure on two vessels',\n",
       " 945: 'cardiovascular stress test using treadmill',\n",
       " 946: 'femoral hernia without mention of obstruction of gangrene, unilateral or unspecified(not specified as recurrent)',\n",
       " 947: 'malignant neoplasm of middle third of esophagus',\n",
       " 948: 'burn of gastrointestinal tract',\n",
       " 949: 'torsion of ovary, ovarian pedicle, or fallopian tube',\n",
       " 950: 'fracture of medial malleolus, closed',\n",
       " 951: 'trifascicular block',\n",
       " 952: 'atherosclerosis of autologous vein bypass graft of the extremities',\n",
       " 953: 'other generalized ischemic cerebrovascular disease',\n",
       " 954: 'closed posterior dislocation of hip',\n",
       " 955: 'bipolar i disorder, most recent episode (or current) manic, unspecified',\n",
       " 956: 'chondrocalcinosis, due to dicalcium phosphate crystals, lower leg',\n",
       " 957: 'rupture of bladder, nontraumatic',\n",
       " 958: 'continent ileostomy',\n",
       " 959: 'urinary obstruction, not elsewhere classified',\n",
       " 960: 'secondary uterine inertia, delivered, with or without mention of antepartum condition',\n",
       " 961: 'generalized convulsive epilepsy, with intractable epilepsy',\n",
       " 962: 'poisoning by unspecified sedative or hypnotic',\n",
       " 963: 'anastomosis of kidney',\n",
       " 964: 'mononeuritis of unspecified site',\n",
       " 965: 'heart replaced by transplant',\n",
       " 966: 'dorsal and dorsolumbar fusion of the posterior column, posterior technique',\n",
       " 967: 'opportunistic mycoses',\n",
       " 968: 'other specified erythematous conditions',\n",
       " 969: 'keratoderma, acquired',\n",
       " 970: 'total repair of total anomalous pulmonary venous connection',\n",
       " 971: 'other open reduction of facial fracture',\n",
       " 972: 'organic sleep apnea, unspecified',\n",
       " 973: 'background diabetic retinopathy',\n",
       " 974: 'implant of pulsation balloon',\n",
       " 975: 'rupture of eye with partial loss of intraocular tissue',\n",
       " 976: 'displacement of lumbar intervertebral disc without myelopathy',\n",
       " 977: 'degeneration of cervical intervertebral disc',\n",
       " 978: 'endoscopic retrograde cholangiopancreatography [ercp]',\n",
       " 979: 'percutaneous nephrostomy without fragmentation',\n",
       " 980: 'other mononeuritis of upper limb',\n",
       " 981: 'outcome of delivery, twins, both liveborn',\n",
       " 982: 'extracorporeal immunoadsorption',\n",
       " 983: 'spondylosis with myelopathy, thoracic region',\n",
       " 984: 'open fracture of lower end of radius with ulna',\n",
       " 985: 'other atherosclerosis of native arteries of the extremities',\n",
       " 986: 'acute poliomyelitis, unspecified, poliovirus, unspecified type',\n",
       " 987: 'other specified disorders of gallbladder',\n",
       " 988: 'continuous invasive mechanical ventilation of unspecified duration',\n",
       " 989: 'other specified analgesics and antipyretics causing adverse effects in therapeutic use',\n",
       " 990: 'other combinations of endocrine dysfunction',\n",
       " 991: 'unspecified mastoiditis',\n",
       " 992: 'repair of hip, not elsewhere classified',\n",
       " 993: 'unspecified noninflammatory disorder of vulva and perineum',\n",
       " 994: 'insertion of skull plate',\n",
       " 995: 'hemiplegia, unspecified, affecting dominant side',\n",
       " 996: 'other incision of larynx or trachea',\n",
       " 997: 't7-t12 level with other specified spinal cord injury',\n",
       " 998: 'other repair of intestine',\n",
       " 999: 'repair of other fistula of vagina',\n",
       " ...}"
      ]
     },
     "execution_count": 47,
     "metadata": {},
     "output_type": "execute_result"
    }
   ],
   "source": [
    "db_type = 'UnifiedNoKGenc'\n",
    "# uniid2entity = {v:k.split('\\t')[0].split('^^')[0].strip('\"').replace('\\\\\"','\"') for k,v in torch.load(f'../gtx/data/knowmix/{db_name}_{size}/{db_name}_UnifiedNoKGenc/unified_node').items()}\n",
    "uniid2entity = {v:k.split('\\t')[0].split('^^')[0].strip('\"').replace('\\\\\"','\"') for k,v in torch.load(f'{SOURCE_PATH}/{db_name_source}_UnifiedNoKGenc/unified_node').items()}\n",
    "\n",
    "tot_amt = dict()\n",
    "for split in SPLIT:\n",
    "#     db = torch.load(f'../gtx/data/knowmix/{db_name}_{size}/{db_name}_{db_type}/{split}/db')\n",
    "    db = torch.load(f'../gtx/data/knowmix/{db_name}_{size}/{db_name}_{db_type}/{split}/db')\n",
    "#     db = torch.load(f'{SOURCE_PATH}/{db_name_source}_{db_type}/{split}/db')\n",
    "    for idx in range(len(db['input'])):\n",
    "        ids = [x for x in db['input'][idx] if x>7]\n",
    "        for _id in ids:\n",
    "            if _id not in tot_amt:\n",
    "                tot_amt[_id] = 0\n",
    "            tot_amt[_id]+=1\n",
    "code_frequency = {'.'.join([name2codecat[uniid2entity[k]]['large'],name2codecat[uniid2entity[k]]['small']]):1/v for k,v in tot_amt.items()}\n",
    "uniid2entity"
   ]
  },
  {
   "cell_type": "code",
   "execution_count": 28,
   "id": "592a81fd",
   "metadata": {},
   "outputs": [],
   "source": [
    "def reformat(code, is_diag):\n",
    "    \"\"\"\n",
    "        Put a period in the right place because the MIMIC-3 data files exclude them.\n",
    "        Generally, procedure codes have dots after the first two digits, \n",
    "        while diagnosis codes have dots after the first three digits.\n",
    "    \"\"\"\n",
    "    code = ''.join(code.split('.'))\n",
    "    if is_diag:\n",
    "        if code.startswith('e'):\n",
    "            if len(code) > 4:\n",
    "                code = code[:4] + '.' + code[4:]\n",
    "        else:\n",
    "            if len(code) > 3:\n",
    "                code = code[:3] + '.' + code[3:]\n",
    "    else:\n",
    "        code = code[:2] + '.' + code[2:]\n",
    "    return code"
   ]
  },
  {
   "cell_type": "code",
   "execution_count": 29,
   "id": "26d977e3",
   "metadata": {},
   "outputs": [],
   "source": [
    "def corrupt_input_and_generate_label(inputs, mode, id2entity, entity2id, code_frequency=None):\n",
    "    if code_frequency is None:\n",
    "        raise ValueError(\"Must turn on non-uniform sampling\")\n",
    "    try:\n",
    "        inputs=np.array(inputs)\n",
    "        inputs_ori = inputs.copy()\n",
    "        input_entities = np.array([id2entity[x] if x in id2entity else x for x in inputs])\n",
    "\n",
    "        if mode == 's':\n",
    "            codes = list()\n",
    "            f = list()\n",
    "            for x in input_entities:\n",
    "                if (\"icd9_code\" in x) and (x not in codes):\n",
    "                    is_diag = True if 'diag' in x.split('/')[1] else False\n",
    "                    code = name2codecat[code2name[reformat(x.split('/')[-1].strip(\">\"),is_diag = is_diag)]]\n",
    "                    small_cat_length = len(codebook[code['large']])\n",
    "                    if small_cat_length>=2:\n",
    "                        codes.append(x)\n",
    "                        f.append(code_frequency[\".\".join([code['large'],code['small']])])\n",
    "            p = [x/sum(f) for x in f]\n",
    "            corruption_target_codes = choice(codes,size=max(int(len(codes)*0.25),1), replace=False, p=p) \n",
    "            corruption_targets_idx = np.array([np.where(input_entities==code)[0][0] for code in corruption_target_codes])\n",
    "            for corruption_target in corruption_targets_idx:\n",
    "                code_entity = input_entities[corruption_target].split(\"/\")\n",
    "                header = '/'.join(code_entity[:-1])\n",
    "                is_diag = True if 'diag' in header else False\n",
    "                code = reformat(code_entity[-1].strip(\">\"),is_diag=is_diag)\n",
    "\n",
    "                target_literal_idx = np.where(entity2id[code2name[code]] == inputs)[0][0]\n",
    "\n",
    "                icd_code = code2name[code]\n",
    "                codecat = name2codecat[icd_code]\n",
    "                large_cat, small_cat = codecat['large'], codecat['small']\n",
    "                small_cat_lists = codebook[large_cat].copy()\n",
    "\n",
    "                small_cat_lists.remove(small_cat)\n",
    "                for _ in range(50):\n",
    "                    corrupted_small_cat = choice(small_cat_lists)\n",
    "                    if code2name[\".\".join([large_cat,corrupted_small_cat])] in entity2id:\n",
    "                        ERROR_FLAG=False\n",
    "                        break\n",
    "                    else:\n",
    "                        ERROR_FLAG = True\n",
    "                if ERROR_FLAG:\n",
    "                    raise ValueError()\n",
    "                inputs[target_literal_idx] = entity2id[code2name[\".\".join([large_cat,corrupted_small_cat])]]\n",
    "                inputs[corruption_target] = entity2id['/'.join([header,\"\".join([large_cat,corrupted_small_cat])])+\">\"]\n",
    "            labels = ~(inputs_ori==inputs)\n",
    "    except:\n",
    "        inputs = None\n",
    "        labels = None\n",
    "    return inputs, labels"
   ]
  },
  {
   "cell_type": "code",
   "execution_count": 48,
   "id": "de94104e",
   "metadata": {},
   "outputs": [
    {
     "name": "stdout",
     "output_type": "stream",
     "text": [
      "NoKGenc\n"
     ]
    },
    {
     "name": "stderr",
     "output_type": "stream",
     "text": [
      "28915it [00:23, 1224.90it/s]\n"
     ]
    },
    {
     "name": "stdout",
     "output_type": "stream",
     "text": [
      "**************************************************\n",
      "['</diagnoses_icd9_code/5533>', '</diagnoses_icd9_code/45340>', '</procedures_icd9_code/3179>', 'diaphragmatic hernia without mention of obstruction or gangrene', 'acute venous embolism and thrombosis of unspecified deep vessels of lower extremity', 'other repair and plastic operations on trachea']\n",
      "['</diagnoses_icd9_code/5531>', '</diagnoses_icd9_code/45372>', '</procedures_icd9_code/315>', 'umbilical hernia without mention of obstruction or gangrene', 'chronic venous embolism and thrombosis of deep veins of upper extremity', 'local excision or destruction of lesion or tissue of trachea']\n",
      "(array([27, 32, 41, 47, 52, 61]),)\n",
      "--------------------------------------------------\n",
      "dx,prx,2000,train 28282\n",
      "['input', 'label', 'text']\n",
      "**************************************************\n"
     ]
    },
    {
     "name": "stderr",
     "output_type": "stream",
     "text": [
      "2000it [00:01, 1246.40it/s]\n"
     ]
    },
    {
     "name": "stdout",
     "output_type": "stream",
     "text": [
      "**************************************************\n",
      "['</procedures_icd9_code/151>', 'excision of lesion or tissue of cerebral meninges']\n",
      "['</procedures_icd9_code/152>', 'hemispherectomy']\n",
      "(array([10, 17]),)\n",
      "--------------------------------------------------\n",
      "dx,prx,2000,valid 1956\n",
      "['input', 'label', 'text']\n",
      "**************************************************\n"
     ]
    },
    {
     "name": "stderr",
     "output_type": "stream",
     "text": [
      "2000it [00:01, 1261.74it/s]\n"
     ]
    },
    {
     "name": "stdout",
     "output_type": "stream",
     "text": [
      "**************************************************\n",
      "['</diagnoses_icd9_code/28521>', '</diagnoses_icd9_code/4589>', '</diagnoses_icd9_code/2749>', '</diagnoses_icd9_code/2761>', 'anemia in chronic kidney disease', 'hypotension, unspecified', 'gout, unspecified', 'hyposmolality and/or hyponatremia']\n",
      "['</diagnoses_icd9_code/2859>', '</diagnoses_icd9_code/4581>', '</diagnoses_icd9_code/27401>', '</diagnoses_icd9_code/2767>', 'anemia, unspecified', 'chronic hypotension', 'acute gouty arthropathy', 'hyperpotassemia']\n",
      "(array([26, 29, 36, 38, 45, 48, 55, 57]),)\n",
      "--------------------------------------------------\n",
      "dx,prx,2000,test 1946\n",
      "['input', 'label', 'text']\n",
      "**************************************************\n",
      "UniKGenc\n"
     ]
    },
    {
     "name": "stderr",
     "output_type": "stream",
     "text": [
      "28915it [00:01, 27002.55it/s]\n"
     ]
    },
    {
     "name": "stdout",
     "output_type": "stream",
     "text": [
      "**************************************************\n",
      "['</diagnoses_icd9_code/5533>', '</diagnoses_icd9_code/45340>', '</procedures_icd9_code/3179>', 'diaphragmatic hernia without mention of obstruction or gangrene', 'acute venous embolism and thrombosis of unspecified deep vessels of lower extremity', 'other repair and plastic operations on trachea']\n",
      "['</diagnoses_icd9_code/5531>', '</diagnoses_icd9_code/45372>', '</procedures_icd9_code/315>', 'umbilical hernia without mention of obstruction or gangrene', 'chronic venous embolism and thrombosis of deep veins of upper extremity', 'local excision or destruction of lesion or tissue of trachea']\n",
      "(array([27, 32, 41, 47, 52, 61]),)\n",
      "--------------------------------------------------\n",
      "dx,prx,2000,train 28282\n",
      "['input', 'mask', 'label', 'text']\n",
      "**************************************************\n"
     ]
    },
    {
     "name": "stderr",
     "output_type": "stream",
     "text": [
      "2000it [00:00, 26353.41it/s]\n"
     ]
    },
    {
     "name": "stdout",
     "output_type": "stream",
     "text": [
      "**************************************************\n",
      "['</procedures_icd9_code/151>', 'excision of lesion or tissue of cerebral meninges']\n",
      "['</procedures_icd9_code/152>', 'hemispherectomy']\n",
      "(array([10, 17]),)\n",
      "--------------------------------------------------\n",
      "dx,prx,2000,valid 1956\n",
      "['input', 'mask', 'label', 'text']\n",
      "**************************************************\n"
     ]
    },
    {
     "name": "stderr",
     "output_type": "stream",
     "text": [
      "2000it [00:00, 27180.14it/s]\n"
     ]
    },
    {
     "name": "stdout",
     "output_type": "stream",
     "text": [
      "**************************************************\n",
      "['</diagnoses_icd9_code/28521>', '</diagnoses_icd9_code/4589>', '</diagnoses_icd9_code/2749>', '</diagnoses_icd9_code/2761>', 'anemia in chronic kidney disease', 'hypotension, unspecified', 'gout, unspecified', 'hyposmolality and/or hyponatremia']\n",
      "['</diagnoses_icd9_code/2859>', '</diagnoses_icd9_code/4581>', '</diagnoses_icd9_code/27401>', '</diagnoses_icd9_code/2767>', 'anemia, unspecified', 'chronic hypotension', 'acute gouty arthropathy', 'hyperpotassemia']\n",
      "(array([26, 29, 36, 38, 45, 48, 55, 57]),)\n",
      "--------------------------------------------------\n",
      "dx,prx,2000,test 1946\n",
      "['input', 'mask', 'label', 'text']\n",
      "**************************************************\n",
      "UnifiedNoKGenc\n"
     ]
    },
    {
     "name": "stderr",
     "output_type": "stream",
     "text": [
      "28915it [00:01, 19536.38it/s]\n"
     ]
    },
    {
     "name": "stdout",
     "output_type": "stream",
     "text": [
      "**************************************************\n",
      "['diaphragmatic hernia without mention of obstruction or gangrene', 'acute venous embolism and thrombosis of unspecified deep vessels of lower extremity', 'other repair and plastic operations on trachea']\n",
      "['umbilical hernia without mention of obstruction or gangrene', 'chronic venous embolism and thrombosis of deep veins of upper extremity', 'local excision or destruction of lesion or tissue of trachea']\n",
      "(array([47, 52, 61]),)\n",
      "--------------------------------------------------\n",
      "dx,prx,2000,train 28282\n",
      "['input', 'label', 'text', 'knowledge']\n",
      "**************************************************\n"
     ]
    },
    {
     "name": "stderr",
     "output_type": "stream",
     "text": [
      "2000it [00:00, 18709.37it/s]\n"
     ]
    },
    {
     "name": "stdout",
     "output_type": "stream",
     "text": [
      "**************************************************\n",
      "['excision of lesion or tissue of cerebral meninges']\n",
      "['hemispherectomy']\n",
      "(array([17]),)\n",
      "--------------------------------------------------\n",
      "dx,prx,2000,valid 1956\n",
      "['input', 'label', 'text', 'knowledge']\n",
      "**************************************************\n"
     ]
    },
    {
     "name": "stderr",
     "output_type": "stream",
     "text": [
      "2000it [00:00, 20561.42it/s]\n"
     ]
    },
    {
     "name": "stdout",
     "output_type": "stream",
     "text": [
      "**************************************************\n",
      "['anemia in chronic kidney disease', 'hypotension, unspecified', 'gout, unspecified', 'hyposmolality and/or hyponatremia']\n",
      "['anemia, unspecified', 'chronic hypotension', 'acute gouty arthropathy', 'hyperpotassemia']\n",
      "(array([45, 48, 55, 57]),)\n",
      "--------------------------------------------------\n",
      "dx,prx,2000,test 1946\n",
      "['input', 'label', 'text', 'knowledge']\n",
      "**************************************************\n",
      "UnifiedUniKGenc\n"
     ]
    },
    {
     "name": "stderr",
     "output_type": "stream",
     "text": [
      "28915it [00:02, 12944.72it/s]\n"
     ]
    },
    {
     "name": "stdout",
     "output_type": "stream",
     "text": [
      "**************************************************\n",
      "['diaphragmatic hernia without mention of obstruction or gangrene', 'acute venous embolism and thrombosis of unspecified deep vessels of lower extremity', 'other repair and plastic operations on trachea']\n",
      "['umbilical hernia without mention of obstruction or gangrene', 'chronic venous embolism and thrombosis of deep veins of upper extremity', 'local excision or destruction of lesion or tissue of trachea']\n",
      "(array([47, 52, 61]),)\n",
      "--------------------------------------------------\n",
      "dx,prx,2000,train 28282\n",
      "['input', 'mask', 'label', 'text', 'knowledge']\n",
      "**************************************************\n"
     ]
    },
    {
     "name": "stderr",
     "output_type": "stream",
     "text": [
      "2000it [00:00, 19654.66it/s]\n"
     ]
    },
    {
     "name": "stdout",
     "output_type": "stream",
     "text": [
      "**************************************************\n",
      "['excision of lesion or tissue of cerebral meninges']\n",
      "['hemispherectomy']\n",
      "(array([17]),)\n",
      "--------------------------------------------------\n",
      "dx,prx,2000,valid 1956\n",
      "['input', 'mask', 'label', 'text', 'knowledge']\n",
      "**************************************************\n"
     ]
    },
    {
     "name": "stderr",
     "output_type": "stream",
     "text": [
      "2000it [00:00, 18444.37it/s]\n"
     ]
    },
    {
     "name": "stdout",
     "output_type": "stream",
     "text": [
      "**************************************************\n",
      "['anemia in chronic kidney disease', 'hypotension, unspecified', 'gout, unspecified', 'hyposmolality and/or hyponatremia']\n",
      "['anemia, unspecified', 'chronic hypotension', 'acute gouty arthropathy', 'hyperpotassemia']\n",
      "(array([45, 48, 55, 57]),)\n",
      "--------------------------------------------------\n",
      "dx,prx,2000,test 1946\n",
      "['input', 'mask', 'label', 'text', 'knowledge']\n",
      "**************************************************\n"
     ]
    }
   ],
   "source": [
    "for db_type in DB_type:\n",
    "    print(db_type)\n",
    "    if db_type == 'NoKGenc':\n",
    "        global_sample = list()\n",
    "    idx = 0\n",
    "    for split in SPLIT:\n",
    "        # Prepare essential files\n",
    "        NUM_SPECIAL_TOKENS = 3\n",
    "        id2entity = {int(line.split('\\t')[1])+NUM_SPECIAL_TOKENS:line.split('\\t')[0].split('^^')[0].strip('\"').replace('\\\\\"','\"') for line in open(os.path.join(f'../preprocessing/legacy/13-01-2021/dxprx/','entity2id.txt')).read().splitlines()[1:]}\n",
    "        id2entity[0]='PAD'\n",
    "        id2entity[1]='MASK'\n",
    "        id2entity[2]='CLS'\n",
    "        entity2id = {v:k for k,v in id2entity.items()}\n",
    "        uniid2entity = {v:k.split('\\t')[0].split('^^')[0].strip('\"').replace('\\\\\"','\"') for k,v in torch.load(f'{SOURCE_PATH}/{db_name_source}_UnifiedNoKGenc/unified_node').items()}\n",
    "        entity2uniid = {v:k for k,v in uniid2entity.items()}\n",
    "        id2uniid = {k:entity2uniid[v] for k,v in id2entity.items() if v in entity2uniid}\n",
    "        db = torch.load(f'../gtx/data/knowmix/{db_name}_{size}/{db_name}_{db_type}/{split}/db')\n",
    "#         db = torch.load(f'{SOURCE_PATH}/{db_name_source}_{db_type}/{split}/db')\n",
    "        db_new = dict()\n",
    "        for k in db:\n",
    "            if k in ['rc_index', 'label_mask']:\n",
    "                continue\n",
    "            db_new[k] = list()\n",
    "        for in_db_idx, _input in tqdm(enumerate(db['input'])):\n",
    "            if db_type == 'NoKGenc':\n",
    "                x, y = corrupt_input_and_generate_label(inputs=db['input'][in_db_idx],mode='s',id2entity=id2entity, entity2id=entity2id, code_frequency=code_frequency)\n",
    "                sample = {\n",
    "                    'input': x,\n",
    "                    'label': y,\n",
    "                } if x is not None else None\n",
    "                if sample is not None:\n",
    "                    for k in db_new:\n",
    "                        if k in sample:\n",
    "                            db_new[k].append(sample[k].tolist())\n",
    "                        else:\n",
    "                            db_new[k].append(db[k][in_db_idx])\n",
    "                global_sample.append(sample)\n",
    "            else:\n",
    "                if global_sample[idx] is not None:\n",
    "                    sample = {k:global_sample[idx][k].copy() for k in global_sample[idx]}\n",
    "                    actual_input = np.array(db['input'][in_db_idx].copy())\n",
    "                    # Convert Non-unified sample to unifieid sample\n",
    "                    if 'Unified' in db_type:\n",
    "                        living_ids = sample['input'][sample['label']]\n",
    "                        convertable_ids = np.array([True if living_id in id2uniid else False for living_id in living_ids])\n",
    "                        sample['label'][sample['label']==True] = convertable_ids\n",
    "                        actual_input[sample['label']] = np.array([id2uniid[x] for x in living_ids[convertable_ids]])\n",
    "                    for k in db_new:\n",
    "                        if k not in sample:\n",
    "                            db_new[k].append(db[k][in_db_idx])\n",
    "                    db_new['label'].append(sample['label'].tolist())\n",
    "                    if 'Unified' in db_type:\n",
    "                        db_new['input'].append(actual_input.tolist())\n",
    "                    else:\n",
    "                        db_new['input'].append(sample['input'].tolist())\n",
    "                            \n",
    "            idx += 1\n",
    "        print('*'*50)\n",
    "        print([uniid2entity[x] if 'Unified' in db_type else id2entity[x] for x in np.array(db['input'][0])[np.where(np.array(db_new['label'][0])==True)]])\n",
    "        print([uniid2entity[x] if 'Unified' in db_type else id2entity[x] for x in np.array(db_new['input'][0])[np.where(np.array(db_new['label'][0])==True)]])\n",
    "        print(np.where(np.array(db_new['label'][0])==True))\n",
    "        print('-'*50)\n",
    "        print(f'{db_name},{size},{split}',len(db_new['label']))\n",
    "        print(list(db_new.keys()))\n",
    "        print('*'*50)\n",
    "        os.makedirs(f'../gtx/data/ed/{db_name}_{size}/{db_name}_{db_type}/{split}', exist_ok=True)\n",
    "        torch.save(db_new,f'../gtx/data/ed/{db_name}_{size}/{db_name}_{db_type}/{split}/db')            "
   ]
  },
  {
   "cell_type": "markdown",
   "id": "2b88cac3",
   "metadata": {},
   "source": [
    "# 3-1. Convert DB for ErrorDetection for Rx"
   ]
  },
  {
   "cell_type": "code",
   "execution_count": null,
   "id": "f892475d",
   "metadata": {},
   "outputs": [],
   "source": []
  },
  {
   "cell_type": "markdown",
   "id": "fa6e5173",
   "metadata": {},
   "source": [
    "# 4. Modify Pretraining Input for KnowMix strategy"
   ]
  },
  {
   "cell_type": "code",
   "execution_count": 31,
   "id": "6428c905",
   "metadata": {},
   "outputs": [],
   "source": [
    "import os\n",
    "import torch\n",
    "from tqdm import tqdm, trange\n",
    "db_name = 'dx,prx'\n",
    "db_name_source = 'dxprx'\n",
    "size = 2000\n",
    "DB_type = ['UnifiedNoKGenc','UnifiedUniKGenc']\n",
    "SPLIT = ['train','valid','test']\n",
    "SOURCE_PATH = '/home/caoyu/project/MultiModalMed/preprocessing/legacy/13-01-2021'"
   ]
  },
  {
   "cell_type": "code",
   "execution_count": 32,
   "id": "53bbfcaa",
   "metadata": {},
   "outputs": [
    {
     "name": "stdout",
     "output_type": "stream",
     "text": [
      "DB_type>>>>>>>>>>> UnifiedNoKGenc\n"
     ]
    },
    {
     "name": "stderr",
     "output_type": "stream",
     "text": [
      "100%|██████████| 28274/28274 [00:00<00:00, 38166.89it/s]\n",
      "100%|██████████| 1951/1951 [00:00<00:00, 42107.93it/s]\n",
      "100%|██████████| 1942/1942 [00:00<00:00, 43011.23it/s]\n"
     ]
    },
    {
     "name": "stdout",
     "output_type": "stream",
     "text": [
      "7871\n",
      "DB_type>>>>>>>>>>> UnifiedUniKGenc\n"
     ]
    },
    {
     "name": "stderr",
     "output_type": "stream",
     "text": [
      "100%|██████████| 28274/28274 [00:00<00:00, 666507.90it/s]\n",
      "100%|██████████| 1951/1951 [00:00<00:00, 511890.85it/s]\n",
      "100%|██████████| 1942/1942 [00:00<00:00, 540070.17it/s]\n"
     ]
    },
    {
     "name": "stdout",
     "output_type": "stream",
     "text": [
      "7871\n"
     ]
    }
   ],
   "source": [
    "know_list = list()\n",
    "for db_type in DB_type:\n",
    "    print('DB_type>>>>>>>>>>>',db_type)\n",
    "    global_idx=0\n",
    "    # Prepare essential files\n",
    "    if \"Unified\" not in db_type:\n",
    "        NUM_SPECIAL_TOKENS = 3\n",
    "        id2label = torch.load(f'../gtx/data/{db_name}_{size}/{db_name}_{db_type}/id2label')\n",
    "        label2id = {v:k for k,v in id2label.items()}\n",
    "        id2entity = {int(line.split('\\t')[1])+NUM_SPECIAL_TOKENS:line.split('\\t')[0].split('^^')[0] for line in open(os.path.join(f'{SOURCE_PATH}/{db_name_source}','entity2id.txt')).read().splitlines()[1:]}\n",
    "        label2entity = {k:id2entity[v] for k,v in label2id.items()}\n",
    "    else:\n",
    "        id2entity = {v:k.split('\\t')[0].split('^^')[0] for k,v in torch.load(f'{SOURCE_PATH}/{db_name_source}_{db_type}/unified_node').items()}\n",
    "    for split in SPLIT:\n",
    "        db = torch.load(f'../gtx/data/ed/{db_name}_{size}/{db_name}_{db_type}/{split}/db')\n",
    "        db_new = {k:list() for k in db}\n",
    "        db_new['knowledge'] = list()\n",
    "        for idx in trange(len(db['input'])):\n",
    "            for k in db:\n",
    "                db_new[k].append(db[k][idx])\n",
    "            if db_type == 'UnifiedNoKGenc':\n",
    "                desc = [id2entity[x].replace('\"','') if x>5 else \"\" for x in db_new['input'][idx]]\n",
    "                know_list.append(desc)\n",
    "                db_new['knowledge'].append(desc)\n",
    "            else:\n",
    "                db_new['knowledge'].append(know_list[global_idx])\n",
    "            global_idx += 1\n",
    "        os.makedirs(f'../gtx/data/ed/knowmix/{db_name}_{size}/{db_name}_{db_type}/{split}', exist_ok=True)\n",
    "        torch.save(db_new,f'../gtx/data/ed/knowmix/{db_name}_{size}/{db_name}_{db_type}/{split}/db')\n",
    "    id2desc = {k:v.split('^^')[0].replace('\"','') if '^^' in v else \"\" for k,v in id2entity.items()}\n",
    "    print(len(id2desc))\n",
    "    torch.save(id2desc,f'../gtx/data/ed/knowmix/{db_name}_{size}/{db_name}_{db_type}/id2desc')\n",
    "                        "
   ]
  },
  {
   "cell_type": "code",
   "execution_count": null,
   "id": "ace57389",
   "metadata": {},
   "outputs": [],
   "source": []
  },
  {
   "cell_type": "code",
   "execution_count": 33,
   "id": "ca3aeb8e",
   "metadata": {},
   "outputs": [],
   "source": [
    "db_name_source = 'dxprx'"
   ]
  },
  {
   "cell_type": "code",
   "execution_count": 34,
   "id": "93822a3c",
   "metadata": {},
   "outputs": [
    {
     "name": "stderr",
     "output_type": "stream",
     "text": [
      "100%|██████████| 28915/28915 [00:00<00:00, 39815.49it/s]\n",
      "100%|██████████| 2000/2000 [00:00<00:00, 39097.34it/s]\n",
      "100%|██████████| 2000/2000 [00:00<00:00, 40511.96it/s]\n"
     ]
    },
    {
     "name": "stdout",
     "output_type": "stream",
     "text": [
      "7871\n"
     ]
    },
    {
     "name": "stderr",
     "output_type": "stream",
     "text": [
      "100%|██████████| 28915/28915 [00:00<00:00, 514724.26it/s]\n",
      "100%|██████████| 2000/2000 [00:00<00:00, 423410.46it/s]\n",
      "100%|██████████| 2000/2000 [00:00<00:00, 403337.24it/s]\n"
     ]
    },
    {
     "name": "stdout",
     "output_type": "stream",
     "text": [
      "7871\n"
     ]
    }
   ],
   "source": [
    "know_list = list()\n",
    "for db_type in DB_type:\n",
    "    global_idx=0\n",
    "    # Prepare essential files\n",
    "    if \"Unified\" not in db_type:\n",
    "        NUM_SPECIAL_TOKENS = 3\n",
    "        id2label = torch.load(f'/home/caoyu/project/MultiModalMed/preprocessing/legacy/13-01-2021/{db_name_source}_{db_type}/id2label')\n",
    "        label2id = {v:k for k,v in id2label.items()}\n",
    "        id2entity = {int(line.split('\\t')[1])+NUM_SPECIAL_TOKENS:line.split('\\t')[0].split('^^')[0] for line in open(os.path.join(f'/home/caoyu/project/MultiModalMed/preprocessing/legacy/13-01-2021/{db_name_source}','entity2id.txt')).read().splitlines()[1:]}\n",
    "        label2entity = {k:id2entity[v] for k,v in label2id.items()}\n",
    "    else:\n",
    "        id2entity = {v:k.split('\\t')[0].split('^^')[0] for k,v in torch.load(f'/home/caoyu/project/MultiModalMed/preprocessing/legacy/13-01-2021/{db_name_source}_{db_type}/unified_node').items()}\n",
    "    for split in SPLIT:\n",
    "        db = torch.load(f'/home/caoyu/project/MultiModalMed/preprocessing/legacy/13-01-2021/{db_name_source}_{db_type}/{split}/db')\n",
    "        db_new = {k:list() for k in db}\n",
    "        db_new['knowledge'] = list()\n",
    "        for idx in trange(len(db['input'])):\n",
    "            for k in db:\n",
    "                db_new[k].append(db[k][idx])\n",
    "            if db_type == 'UnifiedNoKGenc':\n",
    "                desc = [id2entity[x].replace('\"','') if x>5 else \"\" for x in db_new['input'][idx]]\n",
    "                know_list.append(desc)\n",
    "                db_new['knowledge'].append(desc)\n",
    "            else:\n",
    "                db_new['knowledge'].append(know_list[global_idx])\n",
    "            global_idx += 1\n",
    "        os.makedirs(f'../gtx/data/knowmix/{db_name}_{size}/{db_name}_{db_type}/{split}', exist_ok=True)\n",
    "        torch.save(db_new,f'../gtx/data/knowmix/{db_name}_{size}/{db_name}_{db_type}/{split}/db')\n",
    "    id2desc = {k:v.split('^^')[0].replace('\"','') if '^^' in v else \"\" for k,v in id2entity.items()}\n",
    "    print(len(id2desc))\n",
    "    torch.save(id2desc,f'../gtx/data/knowmix/{db_name}_{size}/{db_name}_{db_type}/id2desc')              \n",
    "                \n",
    "            "
   ]
  },
  {
   "cell_type": "code",
   "execution_count": null,
   "id": "0348da73",
   "metadata": {},
   "outputs": [],
   "source": []
  },
  {
   "cell_type": "markdown",
   "id": "005e5eec",
   "metadata": {},
   "source": [
    "#### check"
   ]
  },
  {
   "cell_type": "code",
   "execution_count": 67,
   "id": "3e7539dd",
   "metadata": {},
   "outputs": [
    {
     "name": "stdout",
     "output_type": "stream",
     "text": [
      "input\n",
      "[2, 3, 4, 4, 4, 4, 4, 4, 4, 4, 4, 4, 4, 4, 4, 4, 4, 4, 4, 4, 4, 4, 4, 4, 4, 4, 4, 4, 4, 4, 4, 4, 4, 4, 4, 4, 4, 4, 4, 4, 4, 4, 4, 4, 4, 4, 105, 326, 247, 407, 16, 142, 10, 24, 403, 25, 16, 10, 154, 412, 3877, 10, 16, 3877, 26, 154, 10, 577, 16, 71, 673, 250, 16, 45, 10, 374, 154, 352, 17, 110, 16, 841, 10, 719, 24, 7, 515, 11, 10, 214, 16, 365, 16, 109, 65, 120, 16, 17, 606, 154, 352, 185, 46, 10, 5, 16, 437, 816, 10, 16, 437, 158, 440, 102, 16, 95, 10, 75, 16, 17, 247, 105, 267, 305, 16, 10, 5, 159, 10, 99, 460, 24, 99, 16, 37, 14, 37, 230, 9, 24, 10, 216, 86, 17, 577, 1241, 16, 361, 332, 16, 139, 214, 17, 17, 2426, 158, 16, 146, 5, 105, 201, 10, 400, 16, 10, 403, 25, 142, 24, 25, 24, 10, 142, 403, 121, 16, 62, 17, 95, 577, 10, 16, 312, 673, 577, 17, 312, 291, 16, 16, 673, 577, 361, 10, 78, 277, 16, 10, 71, 17, 577, 291, 71, 16, 93, 24, 27, 25, 10, 154, 412, 267, 10, 16, 392, 16, 65, 365, 71, 24, 841, 10, 719, 7, 719, 7, 10, 5, 841, 24, 10, 27, 24, 93, 25, 5, 1457, 199, 17, 16, 2336, 45, 16, 374, 250, 10, 5, 719, 24, 5, 841, 7, 10, 70, 16, 359, 19, 14, 10, 142, 24, 25, 403, 17, 127, 16, 88, 218, 16, 17, 174, 62, 95, 0, 0, 0, 0, 0, 0, 0, 0, 0, 0, 0, 0, 0, 0, 0, 0, 0, 0, 0, 0, 0, 0, 0, 0, 0, 0, 0, 0, 0, 0, 0, 0, 0, 0, 0, 0, 0, 0, 0, 0, 0, 0, 0, 0, 0, 0, 0, 0, 0, 0, 0, 0, 0, 0, 0, 0, 0, 0, 0, 0, 0, 0, 0, 0, 0, 0, 0, 0, 0, 0, 0, 0, 0, 0, 0, 0, 0, 0, 0, 0, 0, 0, 0, 0, 0, 0, 0, 0, 0, 0, 0, 0, 0, 0, 0, 0, 0, 0, 0, 0, 0, 0, 0, 0, 0, 0, 0, 0, 0, 0, 0, 0, 0, 0, 0, 0, 0, 0, 0, 0, 0, 0, 0, 0, 0, 0, 0, 0, 0, 0, 0, 0, 0, 0, 0, 0, 0, 0, 0, 0, 0, 0, 0, 0, 0, 0, 0, 0, 0, 0, 0, 0, 0, 0, 0, 0, 0, 0, 0, 0, 0, 0, 0, 0, 0, 0, 0, 0, 0, 0, 0, 0, 0, 0, 0, 0, 0, 0, 0, 0, 0, 0, 0, 0, 0, 0, 0, 0, 0, 0, 0, 0, 0, 0, 0, 0, 0, 0, 0, 0, 0, 0, 0, 0, 0, 0, 0, 0, 0, 0, 0, 0, 0, 0, 0, 0, 0, 0, 0, 0, 0, 0, 0, 0, 0, 0, 0, 0, 0, 0, 0, 0, 0, 0, 0, 0, 0, 0, 0, 0, 0, 0, 0, 0, 0, 0, 0, 0, 0, 0, 0, 0, 0, 0, 0, 0, 0, 0, 0, 0, 0, 0, 0, 0, 0, 0, 0, 0, 0, 0, 0, 0, 0, 0, 0, 0, 0, 0, 0, 0, 0, 0, 0, 0, 0, 0, 0, 0, 0, 0, 0, 0, 0, 0, 0, 0, 0, 0, 0, 0, 0, 0, 0, 0, 0, 0, 0, 0, 0, 0, 0, 0, 0, 0, 0, 0, 0, 0, 0, 0, 0, 0, 0, 0, 0, 0, 0, 0, 0, 0, 0, 0, 0, 0, 0, 0, 0, 0, 0, 0, 0, 0, 0, 0, 0, 0, 0, 0, 0, 0, 0, 0, 0, 0, 0, 0, 0, 0, 0, 0, 0, 0, 0, 0, 0, 0, 0, 0, 0, 0, 0, 0, 0, 0, 0, 0, 0, 0, 0, 0, 0, 0, 0, 0, 0, 0, 0, 0, 0, 0, 0, 0, 0, 0, 0, 0, 0, 0, 0, 0, 0, 0, 0, 0, 0, 0, 0, 0, 0, 0, 0, 0, 0, 0, 0, 0, 0, 0, 0, 0, 0, 0, 0, 0, 0, 0, 0, 0, 0, 0, 0, 0, 0, 0, 0, 0, 0, 0, 0, 0, 0, 0, 0, 0, 0, 0, 0, 0, 0, 0, 0, 0, 0, 0, 0, 0, 0, 0, 0, 0, 0, 0, 0, 0, 0, 0, 0, 0, 0, 0, 0, 0, 0, 0, 0, 0, 0, 0, 0, 0, 0, 0, 0, 0, 0, 0, 0, 0, 0, 0, 0, 0, 0, 0, 0, 0]\n",
      "mask\n",
      "tensor([[1., 0., 0.,  ..., 0., 0., 0.],\n",
      "        [0., 1., 1.,  ..., 0., 0., 0.],\n",
      "        [0., 1., 1.,  ..., 0., 0., 0.],\n",
      "        ...,\n",
      "        [0., 0., 0.,  ..., 1., 0., 0.],\n",
      "        [0., 0., 0.,  ..., 0., 1., 0.],\n",
      "        [0., 0., 0.,  ..., 0., 0., 1.]])\n",
      "label\n",
      "1\n",
      "text\n",
      "{'px': '1 . Docusate Sodium 100 mg Capsule Sig : One ( 1 ) Capsule PO BID ( 2 times a day ) as needed for constipation . Disp:*60 Capsule(s ) * Refills:*0 * 2 . Venlafaxine 25 mg Tablet Sig : Two ( 2 ) Tablet PO BID ( 2 times a day ) . 3 . Hydromorphone 2 mg Tablet Sig : 1 - 2 Tablets PO every six ( 6 ) No driving while on this medication . Disp:*50 Tablet(s ) * Refills:*0 * 4 . Pantoprazole 40 mg Tablet , Delayed Release ( E.C. ) Sig : One ( 1 ) Tablet , Delayed Release ( E.C. ) PO Q24H ( every 24 hours ) . Disp:*30 Tablet , Delayed Release (E.C.)(s ) * Refills:*2 * 5 . Dexamethasone 1 mg Tablet Sig : Three ( 3 ) Tablet PO Q8H ( every 8 hours ) for 1 doses : Taper to 2 mg TID x 3 doses on . Taper to 1 mg TID x 3 doses on . Disp:*12 Tablet(s ) * Refills:*0 * She will continue her Keppra and has a prescription at home .'}\n",
      "knowledge\n",
      "['', '', '', '', '', '', '', '', '', '', '', '', '', '', '', '', '', '', '', '', '', '', '', '', '', '', '', '', '', '', '', '', '', '', '', '', '', '', '', '', '', '', '', '', '', '', '10mg', 'pr', 'bisacodyl', 'bisa10r', 'main', '100ml', 'iv', 'base', 'ns100', '0.9% sodium chloride', 'main', 'iv', 'hydromorphone (dilaudid)', 'hydr1syr', '0.5-1.5mg', 'iv', 'main', '0.5-1.5mg', 'hydr2i', 'hydromorphone (dilaudid)', 'iv', 'levetiracetam', 'main', '1000mg', 'leve500i', 'naclflush', 'main', 'sodium chloride 0.9%  flush', 'iv', '3ml', 'hydromorphone (dilaudid)', '2-4mg', 'po', 'hydr2', 'main', 'potassium chl 20 meq / 1000 ml ns', 'iv', 'kcl20/1000ns', 'base', '1000ml', 'pantoprazole sodium', 'pant40i', 'iv', '40mg', 'main', 'propofol', 'main', '200mg', 'iv drip', 'prop200ig', 'main', 'po', 'hydm4', 'hydromorphone (dilaudid)', '2-4mg', 'ondan4i', 'ondansetron', 'iv', '', 'main', '4mg', 'dexa4i', 'iv', 'main', '4mg', 'dexamethasone', 'phen100ivpb', 'phenytoin sodium', 'main', '100mg', 'iv', 'bisa5', 'main', 'po', 'bisacodyl', '10mg', '0.5mg', 'lora2i', 'main', 'iv', '', 'lorazepam', 'iv', 'vial', '1vial', 'base', 'vial', 'main', 'insulin', 'sc', 'insulin', '0unit', '200ml', 'base', 'iv', 'iso-osmotic dextrose', 'vancobase', 'po', 'levetiracetam', 'leve250t', 'main', '250mg', 'pant40', 'main', 'pantoprazole', '40mg', 'po', 'po', 'dexa15', 'dexamethasone', 'main', '3mg', '', '10mg', 'hydz20i', 'iv', 'hydralazine', 'main', 'iv', 'ns100', '0.9% sodium chloride', '100ml', 'base', '0.9% sodium chloride', 'base', 'iv', '100ml', 'ns100', 'docu100l', 'main', 'docusate sodium', 'po', '100mg', 'levetiracetam', 'iv', 'main', '500mg', 'leve500i', 'levetiracetam', 'po', '500mg', 'leve500', 'main', 'main', 'leve500i', 'levetiracetam', '250mg', 'iv', 'vancomycin', 'vanc1f', 'main', 'iv', '1000mg', 'po', 'levetiracetam', 'leve500', '1000mg', 'main', '500ml', 'base', 'ns500', '0.9% sodium chloride', 'iv', 'hydromorphone (dilaudid)', 'hydr1syr', '0.5mg', 'iv', 'main', 'prop100ig', 'main', 'iv drip', 'propofol', '1000mg', 'base', 'potassium chl 20 meq / 1000 ml ns', 'iv', 'kcl20/1000ns', '1000ml', 'kcl20/1000ns', '1000ml', 'iv', '', 'potassium chl 20 meq / 1000 ml ns', 'base', 'iv', 'ns500', 'base', '500ml', '0.9% sodium chloride', '', 'venlafaxine', '50mg', 'po', 'main', 'venf25', 'sodium chloride 0.9%  flush', 'main', '3ml', 'naclflush', 'iv', '', 'kcl20/1000ns', 'base', '', 'potassium chl 20 meq / 1000 ml ns', '1000ml', 'iv', '5000unit', 'main', 'hepa5i', 'heparin', 'sc', 'iv', '100ml', 'base', '0.9% sodium chloride', 'ns100', 'po', 'acetaminophen', 'main', '325-650mg', 'acet325', 'main', 'po', 'docu100', 'docusate sodium', '100mg', '', '', '', '', '', '', '', '', '', '', '', '', '', '', '', '', '', '', '', '', '', '', '', '', '', '', '', '', '', '', '', '', '', '', '', '', '', '', '', '', '', '', '', '', '', '', '', '', '', '', '', '', '', '', '', '', '', '', '', '', '', '', '', '', '', '', '', '', '', '', '', '', '', '', '', '', '', '', '', '', '', '', '', '', '', '', '', '', '', '', '', '', '', '', '', '', '', '', '', '', '', '', '', '', '', '', '', '', '', '', '', '', '', '', '', '', '', '', '', '', '', '', '', '', '', '', '', '', '', '', '', '', '', '', '', '', '', '', '', '', '', '', '', '', '', '', '', '', '', '', '', '', '', '', '', '', '', '', '', '', '', '', '', '', '', '', '', '', '', '', '', '', '', '', '', '', '', '', '', '', '', '', '', '', '', '', '', '', '', '', '', '', '', '', '', '', '', '', '', '', '', '', '', '', '', '', '', '', '', '', '', '', '', '', '', '', '', '', '', '', '', '', '', '', '', '', '', '', '', '', '', '', '', '', '', '', '', '', '', '', '', '', '', '', '', '', '', '', '', '', '', '', '', '', '', '', '', '', '', '', '', '', '', '', '', '', '', '', '', '', '', '', '', '', '', '', '', '', '', '', '', '', '', '', '', '', '', '', '', '', '', '', '', '', '', '', '', '', '', '', '', '', '', '', '', '', '', '', '', '', '', '', '', '', '', '', '', '', '', '', '', '', '', '', '', '', '', '', '', '', '', '', '', '', '', '', '', '', '', '', '', '', '', '', '', '', '', '', '', '', '', '', '', '', '', '', '', '', '', '', '', '', '', '', '', '', '', '', '', '', '', '', '', '', '', '', '', '', '', '', '', '', '', '', '', '', '', '', '', '', '', '', '', '', '', '', '', '', '', '', '', '', '', '', '', '', '', '', '', '', '', '', '', '', '', '', '', '', '', '', '', '', '', '', '', '', '', '', '', '', '', '', '', '', '', '', '', '', '', '', '', '', '', '', '', '', '', '', '', '', '', '', '', '', '', '', '', '', '', '', '', '', '', '', '', '', '', '', '', '', '', '', '', '', '', '', '', '', '', '', '', '', '', '', '', '', '', '', '', '', '', '', '', '', '', '']\n"
     ]
    }
   ],
   "source": [
    "# db = torch.load(f'/home/caoyu/project/MedGTX/gtx/data/readm/knowmix/dx,prx_2000/dx,prx_UnifiedUniKGenc/valid/db')\n",
    "# db = torch.load(f'/home/caoyu/project/MultiModalMed/gtx/data/readm/knowmix/dx,prx_2000/dx,prx_UnifiedUniKGenc/valid/db')\n",
    "db = torch.load(f'/home/caoyu/project/MultiModalMed/gtx/data/readm/knowmix/px_1000/px_UnifiedUniKGenc/valid/db')\n",
    "\n",
    "IDX = 1\n",
    "for k, v in db.items():\n",
    "    print(k)\n",
    "    print(v[1])"
   ]
  },
  {
   "cell_type": "markdown",
   "id": "ce3c88ef",
   "metadata": {},
   "source": [
    "#### print(len(id2desc)) 对应配置表的num_kg_labels"
   ]
  },
  {
   "cell_type": "code",
   "execution_count": null,
   "id": "fcbcb9c0",
   "metadata": {},
   "outputs": [],
   "source": []
  }
 ],
 "metadata": {
  "kernelspec": {
   "display_name": "torch_kg_txt",
   "language": "python",
   "name": "torch_kg_txt"
  },
  "language_info": {
   "codemirror_mode": {
    "name": "ipython",
    "version": 3
   },
   "file_extension": ".py",
   "mimetype": "text/x-python",
   "name": "python",
   "nbconvert_exporter": "python",
   "pygments_lexer": "ipython3",
   "version": "3.7.7"
  }
 },
 "nbformat": 4,
 "nbformat_minor": 5
}
